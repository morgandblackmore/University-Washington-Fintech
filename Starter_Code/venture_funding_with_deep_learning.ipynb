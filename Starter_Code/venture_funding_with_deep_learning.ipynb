{
 "cells": [
  {
   "cell_type": "markdown",
   "metadata": {},
   "source": [
    "# Venture Funding with Deep Learning\n",
    "\n",
    "You work as a risk management associate at Alphabet Soup, a venture capital firm. Alphabet Soup’s business team receives many funding applications from startups every day. This team has asked you to help them create a model that predicts whether applicants will be successful if funded by Alphabet Soup.\n",
    "\n",
    "The business team has given you a CSV containing more than 34,000 organizations that have received funding from Alphabet Soup over the years. With your knowledge of machine learning and neural networks, you decide to use the features in the provided dataset to create a binary classifier model that will predict whether an applicant will become a successful business. The CSV file contains a variety of information about these businesses, including whether or not they ultimately became successful.\n",
    "\n",
    "## Instructions:\n",
    "\n",
    "The steps for this challenge are broken out into the following sections:\n",
    "\n",
    "* Prepare the data for use on a neural network model.\n",
    "\n",
    "* Compile and evaluate a binary classification model using a neural network.\n",
    "\n",
    "* Optimize the neural network model.\n",
    "\n",
    "### Prepare the Data for Use on a Neural Network Model \n",
    "\n",
    "Using your knowledge of Pandas and scikit-learn’s `StandardScaler()`, preprocess the dataset so that you can use it to compile and evaluate the neural network model later.\n",
    "\n",
    "Open the starter code file, and complete the following data preparation steps:\n",
    "\n",
    "1. Read the `applicants_data.csv` file into a Pandas DataFrame. Review the DataFrame, looking for categorical variables that will need to be encoded, as well as columns that could eventually define your features and target variables.   \n",
    "\n",
    "2. Drop the “EIN” (Employer Identification Number) and “NAME” columns from the DataFrame, because they are not relevant to the binary classification model.\n",
    " \n",
    "3. Encode the dataset’s categorical variables using `OneHotEncoder`, and then place the encoded variables into a new DataFrame.\n",
    "\n",
    "4. Add the original DataFrame’s numerical variables to the DataFrame containing the encoded variables.\n",
    "\n",
    "> **Note** To complete this step, you will employ the Pandas `concat()` function that was introduced earlier in this course. \n",
    "\n",
    "5. Using the preprocessed data, create the features (`X`) and target (`y`) datasets. The target dataset should be defined by the preprocessed DataFrame column “IS_SUCCESSFUL”. The remaining columns should define the features dataset. \n",
    "\n",
    "6. Split the features and target sets into training and testing datasets.\n",
    "\n",
    "7. Use scikit-learn's `StandardScaler` to scale the features data.\n",
    "\n",
    "### Compile and Evaluate a Binary Classification Model Using a Neural Network\n",
    "\n",
    "Use your knowledge of TensorFlow to design a binary classification deep neural network model. This model should use the dataset’s features to predict whether an Alphabet Soup&ndash;funded startup will be successful based on the features in the dataset. Consider the number of inputs before determining the number of layers that your model will contain or the number of neurons on each layer. Then, compile and fit your model. Finally, evaluate your binary classification model to calculate the model’s loss and accuracy. \n",
    " \n",
    "To do so, complete the following steps:\n",
    "\n",
    "1. Create a deep neural network by assigning the number of input features, the number of layers, and the number of neurons on each layer using Tensorflow’s Keras.\n",
    "\n",
    "> **Hint** You can start with a two-layer deep neural network model that uses the `relu` activation function for both layers.\n",
    "\n",
    "2. Compile and fit the model using the `binary_crossentropy` loss function, the `adam` optimizer, and the `accuracy` evaluation metric.\n",
    "\n",
    "> **Hint** When fitting the model, start with a small number of epochs, such as 20, 50, or 100.\n",
    "\n",
    "3. Evaluate the model using the test data to determine the model’s loss and accuracy.\n",
    "\n",
    "4. Save and export your model to an HDF5 file, and name the file `AlphabetSoup.h5`. \n",
    "\n",
    "### Optimize the Neural Network Model\n",
    "\n",
    "Using your knowledge of TensorFlow and Keras, optimize your model to improve the model's accuracy. Even if you do not successfully achieve a better accuracy, you'll need to demonstrate at least two attempts to optimize the model. You can include these attempts in your existing notebook. Or, you can make copies of the starter notebook in the same folder, rename them, and code each model optimization in a new notebook. \n",
    "\n",
    "> **Note** You will not lose points if your model does not achieve a high accuracy, as long as you make at least two attempts to optimize the model.\n",
    "\n",
    "To do so, complete the following steps:\n",
    "\n",
    "1. Define at least three new deep neural network models (the original plus 2 optimization attempts). With each, try to improve on your first model’s predictive accuracy.\n",
    "\n",
    "> **Rewind** Recall that perfect accuracy has a value of 1, so accuracy improves as its value moves closer to 1. To optimize your model for a predictive accuracy as close to 1 as possible, you can use any or all of the following techniques:\n",
    ">\n",
    "> * Adjust the input data by dropping different features columns to ensure that no variables or outliers confuse the model.\n",
    ">\n",
    "> * Add more neurons (nodes) to a hidden layer.\n",
    ">\n",
    "> * Add more hidden layers.\n",
    ">\n",
    "> * Use different activation functions for the hidden layers.\n",
    ">\n",
    "> * Add to or reduce the number of epochs in the training regimen.\n",
    "\n",
    "2. After finishing your models, display the accuracy scores achieved by each model, and compare the results.\n",
    "\n",
    "3. Save each of your models as an HDF5 file.\n"
   ]
  },
  {
   "cell_type": "code",
   "execution_count": 167,
   "metadata": {},
   "outputs": [],
   "source": [
    "# Imports\n",
    "import pandas as pd\n",
    "from pathlib import Path\n",
    "import tensorflow as tf\n",
    "from tensorflow.keras.layers import Dense\n",
    "from tensorflow.keras.models import Sequential\n",
    "from sklearn.model_selection import train_test_split\n",
    "from sklearn.preprocessing import StandardScaler,OneHotEncoder"
   ]
  },
  {
   "cell_type": "markdown",
   "metadata": {},
   "source": [
    "---\n",
    "\n",
    "## Prepare the data to be used on a neural network model"
   ]
  },
  {
   "cell_type": "markdown",
   "metadata": {},
   "source": [
    "### Step 1: Read the `applicants_data.csv` file into a Pandas DataFrame. Review the DataFrame, looking for categorical variables that will need to be encoded, as well as columns that could eventually define your features and target variables.  \n"
   ]
  },
  {
   "cell_type": "code",
   "execution_count": 168,
   "metadata": {},
   "outputs": [
    {
     "data": {
      "text/html": [
       "<div>\n",
       "<style scoped>\n",
       "    .dataframe tbody tr th:only-of-type {\n",
       "        vertical-align: middle;\n",
       "    }\n",
       "\n",
       "    .dataframe tbody tr th {\n",
       "        vertical-align: top;\n",
       "    }\n",
       "\n",
       "    .dataframe thead th {\n",
       "        text-align: right;\n",
       "    }\n",
       "</style>\n",
       "<table border=\"1\" class=\"dataframe\">\n",
       "  <thead>\n",
       "    <tr style=\"text-align: right;\">\n",
       "      <th></th>\n",
       "      <th>EIN</th>\n",
       "      <th>NAME</th>\n",
       "      <th>APPLICATION_TYPE</th>\n",
       "      <th>AFFILIATION</th>\n",
       "      <th>CLASSIFICATION</th>\n",
       "      <th>USE_CASE</th>\n",
       "      <th>ORGANIZATION</th>\n",
       "      <th>STATUS</th>\n",
       "      <th>INCOME_AMT</th>\n",
       "      <th>SPECIAL_CONSIDERATIONS</th>\n",
       "      <th>ASK_AMT</th>\n",
       "      <th>IS_SUCCESSFUL</th>\n",
       "    </tr>\n",
       "  </thead>\n",
       "  <tbody>\n",
       "    <tr>\n",
       "      <th>0</th>\n",
       "      <td>10520599</td>\n",
       "      <td>BLUE KNIGHTS MOTORCYCLE CLUB</td>\n",
       "      <td>T10</td>\n",
       "      <td>Independent</td>\n",
       "      <td>C1000</td>\n",
       "      <td>ProductDev</td>\n",
       "      <td>Association</td>\n",
       "      <td>1</td>\n",
       "      <td>0</td>\n",
       "      <td>N</td>\n",
       "      <td>5000</td>\n",
       "      <td>1</td>\n",
       "    </tr>\n",
       "    <tr>\n",
       "      <th>1</th>\n",
       "      <td>10531628</td>\n",
       "      <td>AMERICAN CHESAPEAKE CLUB CHARITABLE TR</td>\n",
       "      <td>T3</td>\n",
       "      <td>Independent</td>\n",
       "      <td>C2000</td>\n",
       "      <td>Preservation</td>\n",
       "      <td>Co-operative</td>\n",
       "      <td>1</td>\n",
       "      <td>1-9999</td>\n",
       "      <td>N</td>\n",
       "      <td>108590</td>\n",
       "      <td>1</td>\n",
       "    </tr>\n",
       "    <tr>\n",
       "      <th>2</th>\n",
       "      <td>10547893</td>\n",
       "      <td>ST CLOUD PROFESSIONAL FIREFIGHTERS</td>\n",
       "      <td>T5</td>\n",
       "      <td>CompanySponsored</td>\n",
       "      <td>C3000</td>\n",
       "      <td>ProductDev</td>\n",
       "      <td>Association</td>\n",
       "      <td>1</td>\n",
       "      <td>0</td>\n",
       "      <td>N</td>\n",
       "      <td>5000</td>\n",
       "      <td>0</td>\n",
       "    </tr>\n",
       "    <tr>\n",
       "      <th>3</th>\n",
       "      <td>10553066</td>\n",
       "      <td>SOUTHSIDE ATHLETIC ASSOCIATION</td>\n",
       "      <td>T3</td>\n",
       "      <td>CompanySponsored</td>\n",
       "      <td>C2000</td>\n",
       "      <td>Preservation</td>\n",
       "      <td>Trust</td>\n",
       "      <td>1</td>\n",
       "      <td>10000-24999</td>\n",
       "      <td>N</td>\n",
       "      <td>6692</td>\n",
       "      <td>1</td>\n",
       "    </tr>\n",
       "    <tr>\n",
       "      <th>4</th>\n",
       "      <td>10556103</td>\n",
       "      <td>GENETIC RESEARCH INSTITUTE OF THE DESERT</td>\n",
       "      <td>T3</td>\n",
       "      <td>Independent</td>\n",
       "      <td>C1000</td>\n",
       "      <td>Heathcare</td>\n",
       "      <td>Trust</td>\n",
       "      <td>1</td>\n",
       "      <td>100000-499999</td>\n",
       "      <td>N</td>\n",
       "      <td>142590</td>\n",
       "      <td>1</td>\n",
       "    </tr>\n",
       "  </tbody>\n",
       "</table>\n",
       "</div>"
      ],
      "text/plain": [
       "        EIN                                      NAME APPLICATION_TYPE  \\\n",
       "0  10520599              BLUE KNIGHTS MOTORCYCLE CLUB              T10   \n",
       "1  10531628    AMERICAN CHESAPEAKE CLUB CHARITABLE TR               T3   \n",
       "2  10547893        ST CLOUD PROFESSIONAL FIREFIGHTERS               T5   \n",
       "3  10553066            SOUTHSIDE ATHLETIC ASSOCIATION               T3   \n",
       "4  10556103  GENETIC RESEARCH INSTITUTE OF THE DESERT               T3   \n",
       "\n",
       "        AFFILIATION CLASSIFICATION      USE_CASE  ORGANIZATION  STATUS  \\\n",
       "0       Independent          C1000    ProductDev   Association       1   \n",
       "1       Independent          C2000  Preservation  Co-operative       1   \n",
       "2  CompanySponsored          C3000    ProductDev   Association       1   \n",
       "3  CompanySponsored          C2000  Preservation         Trust       1   \n",
       "4       Independent          C1000     Heathcare         Trust       1   \n",
       "\n",
       "      INCOME_AMT SPECIAL_CONSIDERATIONS  ASK_AMT  IS_SUCCESSFUL  \n",
       "0              0                      N     5000              1  \n",
       "1         1-9999                      N   108590              1  \n",
       "2              0                      N     5000              0  \n",
       "3    10000-24999                      N     6692              1  \n",
       "4  100000-499999                      N   142590              1  "
      ]
     },
     "execution_count": 168,
     "metadata": {},
     "output_type": "execute_result"
    }
   ],
   "source": [
    "# Read the applicants_data.csv file from the Resources folder into a Pandas DataFrame\n",
    "applicant_data_df = pd.read_csv(\n",
    "    Path(\"Resources/applicants_data.csv\")\n",
    ")\n",
    "\n",
    "# Review the DataFrame\n",
    "applicant_data_df.head()"
   ]
  },
  {
   "cell_type": "code",
   "execution_count": 169,
   "metadata": {},
   "outputs": [
    {
     "data": {
      "text/plain": [
       "EIN                        int64\n",
       "NAME                      object\n",
       "APPLICATION_TYPE          object\n",
       "AFFILIATION               object\n",
       "CLASSIFICATION            object\n",
       "USE_CASE                  object\n",
       "ORGANIZATION              object\n",
       "STATUS                     int64\n",
       "INCOME_AMT                object\n",
       "SPECIAL_CONSIDERATIONS    object\n",
       "ASK_AMT                    int64\n",
       "IS_SUCCESSFUL              int64\n",
       "dtype: object"
      ]
     },
     "execution_count": 169,
     "metadata": {},
     "output_type": "execute_result"
    }
   ],
   "source": [
    "# Review the data types associated with the columns\n",
    "applicant_data_df.dtypes"
   ]
  },
  {
   "cell_type": "markdown",
   "metadata": {},
   "source": [
    "### Step 2: Drop the “EIN” (Employer Identification Number) and “NAME” columns from the DataFrame, because they are not relevant to the binary classification model."
   ]
  },
  {
   "cell_type": "code",
   "execution_count": 170,
   "metadata": {},
   "outputs": [
    {
     "data": {
      "text/html": [
       "<div>\n",
       "<style scoped>\n",
       "    .dataframe tbody tr th:only-of-type {\n",
       "        vertical-align: middle;\n",
       "    }\n",
       "\n",
       "    .dataframe tbody tr th {\n",
       "        vertical-align: top;\n",
       "    }\n",
       "\n",
       "    .dataframe thead th {\n",
       "        text-align: right;\n",
       "    }\n",
       "</style>\n",
       "<table border=\"1\" class=\"dataframe\">\n",
       "  <thead>\n",
       "    <tr style=\"text-align: right;\">\n",
       "      <th></th>\n",
       "      <th>APPLICATION_TYPE</th>\n",
       "      <th>AFFILIATION</th>\n",
       "      <th>CLASSIFICATION</th>\n",
       "      <th>USE_CASE</th>\n",
       "      <th>ORGANIZATION</th>\n",
       "      <th>STATUS</th>\n",
       "      <th>INCOME_AMT</th>\n",
       "      <th>SPECIAL_CONSIDERATIONS</th>\n",
       "      <th>ASK_AMT</th>\n",
       "      <th>IS_SUCCESSFUL</th>\n",
       "    </tr>\n",
       "  </thead>\n",
       "  <tbody>\n",
       "    <tr>\n",
       "      <th>0</th>\n",
       "      <td>T10</td>\n",
       "      <td>Independent</td>\n",
       "      <td>C1000</td>\n",
       "      <td>ProductDev</td>\n",
       "      <td>Association</td>\n",
       "      <td>1</td>\n",
       "      <td>0</td>\n",
       "      <td>N</td>\n",
       "      <td>5000</td>\n",
       "      <td>1</td>\n",
       "    </tr>\n",
       "    <tr>\n",
       "      <th>1</th>\n",
       "      <td>T3</td>\n",
       "      <td>Independent</td>\n",
       "      <td>C2000</td>\n",
       "      <td>Preservation</td>\n",
       "      <td>Co-operative</td>\n",
       "      <td>1</td>\n",
       "      <td>1-9999</td>\n",
       "      <td>N</td>\n",
       "      <td>108590</td>\n",
       "      <td>1</td>\n",
       "    </tr>\n",
       "    <tr>\n",
       "      <th>2</th>\n",
       "      <td>T5</td>\n",
       "      <td>CompanySponsored</td>\n",
       "      <td>C3000</td>\n",
       "      <td>ProductDev</td>\n",
       "      <td>Association</td>\n",
       "      <td>1</td>\n",
       "      <td>0</td>\n",
       "      <td>N</td>\n",
       "      <td>5000</td>\n",
       "      <td>0</td>\n",
       "    </tr>\n",
       "    <tr>\n",
       "      <th>3</th>\n",
       "      <td>T3</td>\n",
       "      <td>CompanySponsored</td>\n",
       "      <td>C2000</td>\n",
       "      <td>Preservation</td>\n",
       "      <td>Trust</td>\n",
       "      <td>1</td>\n",
       "      <td>10000-24999</td>\n",
       "      <td>N</td>\n",
       "      <td>6692</td>\n",
       "      <td>1</td>\n",
       "    </tr>\n",
       "    <tr>\n",
       "      <th>4</th>\n",
       "      <td>T3</td>\n",
       "      <td>Independent</td>\n",
       "      <td>C1000</td>\n",
       "      <td>Heathcare</td>\n",
       "      <td>Trust</td>\n",
       "      <td>1</td>\n",
       "      <td>100000-499999</td>\n",
       "      <td>N</td>\n",
       "      <td>142590</td>\n",
       "      <td>1</td>\n",
       "    </tr>\n",
       "  </tbody>\n",
       "</table>\n",
       "</div>"
      ],
      "text/plain": [
       "  APPLICATION_TYPE       AFFILIATION CLASSIFICATION      USE_CASE  \\\n",
       "0              T10       Independent          C1000    ProductDev   \n",
       "1               T3       Independent          C2000  Preservation   \n",
       "2               T5  CompanySponsored          C3000    ProductDev   \n",
       "3               T3  CompanySponsored          C2000  Preservation   \n",
       "4               T3       Independent          C1000     Heathcare   \n",
       "\n",
       "   ORGANIZATION  STATUS     INCOME_AMT SPECIAL_CONSIDERATIONS  ASK_AMT  \\\n",
       "0   Association       1              0                      N     5000   \n",
       "1  Co-operative       1         1-9999                      N   108590   \n",
       "2   Association       1              0                      N     5000   \n",
       "3         Trust       1    10000-24999                      N     6692   \n",
       "4         Trust       1  100000-499999                      N   142590   \n",
       "\n",
       "   IS_SUCCESSFUL  \n",
       "0              1  \n",
       "1              1  \n",
       "2              0  \n",
       "3              1  \n",
       "4              1  "
      ]
     },
     "execution_count": 170,
     "metadata": {},
     "output_type": "execute_result"
    }
   ],
   "source": [
    "# Drop the 'EIN' and 'NAME' columns from the DataFrame\n",
    "applicant_data_df = applicant_data_df.drop([\"EIN\",\"NAME\"],axis=1)\n",
    "\n",
    "# Review the DataFrame\n",
    "applicant_data_df.head()"
   ]
  },
  {
   "cell_type": "markdown",
   "metadata": {},
   "source": [
    "### Step 3: Encode the dataset’s categorical variables using `OneHotEncoder`, and then place the encoded variables into a new DataFrame."
   ]
  },
  {
   "cell_type": "code",
   "execution_count": 171,
   "metadata": {},
   "outputs": [
    {
     "data": {
      "text/plain": [
       "['APPLICATION_TYPE',\n",
       " 'AFFILIATION',\n",
       " 'CLASSIFICATION',\n",
       " 'USE_CASE',\n",
       " 'ORGANIZATION',\n",
       " 'INCOME_AMT',\n",
       " 'SPECIAL_CONSIDERATIONS']"
      ]
     },
     "execution_count": 171,
     "metadata": {},
     "output_type": "execute_result"
    }
   ],
   "source": [
    "# Create a list of categorical variables \n",
    "categorical_variables = list(applicant_data_df.dtypes[applicant_data_df.dtypes == \"object\"].index)\n",
    "\n",
    "# Display the categorical variables list\n",
    "categorical_variables"
   ]
  },
  {
   "cell_type": "code",
   "execution_count": 172,
   "metadata": {},
   "outputs": [],
   "source": [
    "# Create a OneHotEncoder instance\n",
    "enc = OneHotEncoder(sparse=False)\n"
   ]
  },
  {
   "cell_type": "code",
   "execution_count": 173,
   "metadata": {},
   "outputs": [],
   "source": [
    "# Encode the categorcal variables using OneHotEncoder\n",
    "encoded_data = enc.fit_transform(applicant_data_df[categorical_variables])\n"
   ]
  },
  {
   "cell_type": "code",
   "execution_count": 227,
   "metadata": {},
   "outputs": [
    {
     "data": {
      "text/html": [
       "<div>\n",
       "<style scoped>\n",
       "    .dataframe tbody tr th:only-of-type {\n",
       "        vertical-align: middle;\n",
       "    }\n",
       "\n",
       "    .dataframe tbody tr th {\n",
       "        vertical-align: top;\n",
       "    }\n",
       "\n",
       "    .dataframe thead th {\n",
       "        text-align: right;\n",
       "    }\n",
       "</style>\n",
       "<table border=\"1\" class=\"dataframe\">\n",
       "  <thead>\n",
       "    <tr style=\"text-align: right;\">\n",
       "      <th></th>\n",
       "      <th>APPLICATION_TYPE_T10</th>\n",
       "      <th>APPLICATION_TYPE_T12</th>\n",
       "      <th>APPLICATION_TYPE_T13</th>\n",
       "      <th>APPLICATION_TYPE_T14</th>\n",
       "      <th>APPLICATION_TYPE_T15</th>\n",
       "      <th>APPLICATION_TYPE_T17</th>\n",
       "      <th>APPLICATION_TYPE_T19</th>\n",
       "      <th>APPLICATION_TYPE_T2</th>\n",
       "      <th>APPLICATION_TYPE_T25</th>\n",
       "      <th>APPLICATION_TYPE_T29</th>\n",
       "      <th>...</th>\n",
       "      <th>INCOME_AMT_1-9999</th>\n",
       "      <th>INCOME_AMT_10000-24999</th>\n",
       "      <th>INCOME_AMT_100000-499999</th>\n",
       "      <th>INCOME_AMT_10M-50M</th>\n",
       "      <th>INCOME_AMT_1M-5M</th>\n",
       "      <th>INCOME_AMT_25000-99999</th>\n",
       "      <th>INCOME_AMT_50M+</th>\n",
       "      <th>INCOME_AMT_5M-10M</th>\n",
       "      <th>SPECIAL_CONSIDERATIONS_N</th>\n",
       "      <th>SPECIAL_CONSIDERATIONS_Y</th>\n",
       "    </tr>\n",
       "  </thead>\n",
       "  <tbody>\n",
       "    <tr>\n",
       "      <th>0</th>\n",
       "      <td>1.0</td>\n",
       "      <td>0.0</td>\n",
       "      <td>0.0</td>\n",
       "      <td>0.0</td>\n",
       "      <td>0.0</td>\n",
       "      <td>0.0</td>\n",
       "      <td>0.0</td>\n",
       "      <td>0.0</td>\n",
       "      <td>0.0</td>\n",
       "      <td>0.0</td>\n",
       "      <td>...</td>\n",
       "      <td>0.0</td>\n",
       "      <td>0.0</td>\n",
       "      <td>0.0</td>\n",
       "      <td>0.0</td>\n",
       "      <td>0.0</td>\n",
       "      <td>0.0</td>\n",
       "      <td>0.0</td>\n",
       "      <td>0.0</td>\n",
       "      <td>1.0</td>\n",
       "      <td>0.0</td>\n",
       "    </tr>\n",
       "    <tr>\n",
       "      <th>1</th>\n",
       "      <td>0.0</td>\n",
       "      <td>0.0</td>\n",
       "      <td>0.0</td>\n",
       "      <td>0.0</td>\n",
       "      <td>0.0</td>\n",
       "      <td>0.0</td>\n",
       "      <td>0.0</td>\n",
       "      <td>0.0</td>\n",
       "      <td>0.0</td>\n",
       "      <td>0.0</td>\n",
       "      <td>...</td>\n",
       "      <td>1.0</td>\n",
       "      <td>0.0</td>\n",
       "      <td>0.0</td>\n",
       "      <td>0.0</td>\n",
       "      <td>0.0</td>\n",
       "      <td>0.0</td>\n",
       "      <td>0.0</td>\n",
       "      <td>0.0</td>\n",
       "      <td>1.0</td>\n",
       "      <td>0.0</td>\n",
       "    </tr>\n",
       "    <tr>\n",
       "      <th>2</th>\n",
       "      <td>0.0</td>\n",
       "      <td>0.0</td>\n",
       "      <td>0.0</td>\n",
       "      <td>0.0</td>\n",
       "      <td>0.0</td>\n",
       "      <td>0.0</td>\n",
       "      <td>0.0</td>\n",
       "      <td>0.0</td>\n",
       "      <td>0.0</td>\n",
       "      <td>0.0</td>\n",
       "      <td>...</td>\n",
       "      <td>0.0</td>\n",
       "      <td>0.0</td>\n",
       "      <td>0.0</td>\n",
       "      <td>0.0</td>\n",
       "      <td>0.0</td>\n",
       "      <td>0.0</td>\n",
       "      <td>0.0</td>\n",
       "      <td>0.0</td>\n",
       "      <td>1.0</td>\n",
       "      <td>0.0</td>\n",
       "    </tr>\n",
       "    <tr>\n",
       "      <th>3</th>\n",
       "      <td>0.0</td>\n",
       "      <td>0.0</td>\n",
       "      <td>0.0</td>\n",
       "      <td>0.0</td>\n",
       "      <td>0.0</td>\n",
       "      <td>0.0</td>\n",
       "      <td>0.0</td>\n",
       "      <td>0.0</td>\n",
       "      <td>0.0</td>\n",
       "      <td>0.0</td>\n",
       "      <td>...</td>\n",
       "      <td>0.0</td>\n",
       "      <td>1.0</td>\n",
       "      <td>0.0</td>\n",
       "      <td>0.0</td>\n",
       "      <td>0.0</td>\n",
       "      <td>0.0</td>\n",
       "      <td>0.0</td>\n",
       "      <td>0.0</td>\n",
       "      <td>1.0</td>\n",
       "      <td>0.0</td>\n",
       "    </tr>\n",
       "    <tr>\n",
       "      <th>4</th>\n",
       "      <td>0.0</td>\n",
       "      <td>0.0</td>\n",
       "      <td>0.0</td>\n",
       "      <td>0.0</td>\n",
       "      <td>0.0</td>\n",
       "      <td>0.0</td>\n",
       "      <td>0.0</td>\n",
       "      <td>0.0</td>\n",
       "      <td>0.0</td>\n",
       "      <td>0.0</td>\n",
       "      <td>...</td>\n",
       "      <td>0.0</td>\n",
       "      <td>0.0</td>\n",
       "      <td>1.0</td>\n",
       "      <td>0.0</td>\n",
       "      <td>0.0</td>\n",
       "      <td>0.0</td>\n",
       "      <td>0.0</td>\n",
       "      <td>0.0</td>\n",
       "      <td>1.0</td>\n",
       "      <td>0.0</td>\n",
       "    </tr>\n",
       "  </tbody>\n",
       "</table>\n",
       "<p>5 rows × 114 columns</p>\n",
       "</div>"
      ],
      "text/plain": [
       "   APPLICATION_TYPE_T10  APPLICATION_TYPE_T12  APPLICATION_TYPE_T13  \\\n",
       "0                   1.0                   0.0                   0.0   \n",
       "1                   0.0                   0.0                   0.0   \n",
       "2                   0.0                   0.0                   0.0   \n",
       "3                   0.0                   0.0                   0.0   \n",
       "4                   0.0                   0.0                   0.0   \n",
       "\n",
       "   APPLICATION_TYPE_T14  APPLICATION_TYPE_T15  APPLICATION_TYPE_T17  \\\n",
       "0                   0.0                   0.0                   0.0   \n",
       "1                   0.0                   0.0                   0.0   \n",
       "2                   0.0                   0.0                   0.0   \n",
       "3                   0.0                   0.0                   0.0   \n",
       "4                   0.0                   0.0                   0.0   \n",
       "\n",
       "   APPLICATION_TYPE_T19  APPLICATION_TYPE_T2  APPLICATION_TYPE_T25  \\\n",
       "0                   0.0                  0.0                   0.0   \n",
       "1                   0.0                  0.0                   0.0   \n",
       "2                   0.0                  0.0                   0.0   \n",
       "3                   0.0                  0.0                   0.0   \n",
       "4                   0.0                  0.0                   0.0   \n",
       "\n",
       "   APPLICATION_TYPE_T29  ...  INCOME_AMT_1-9999  INCOME_AMT_10000-24999  \\\n",
       "0                   0.0  ...                0.0                     0.0   \n",
       "1                   0.0  ...                1.0                     0.0   \n",
       "2                   0.0  ...                0.0                     0.0   \n",
       "3                   0.0  ...                0.0                     1.0   \n",
       "4                   0.0  ...                0.0                     0.0   \n",
       "\n",
       "   INCOME_AMT_100000-499999  INCOME_AMT_10M-50M  INCOME_AMT_1M-5M  \\\n",
       "0                       0.0                 0.0               0.0   \n",
       "1                       0.0                 0.0               0.0   \n",
       "2                       0.0                 0.0               0.0   \n",
       "3                       0.0                 0.0               0.0   \n",
       "4                       1.0                 0.0               0.0   \n",
       "\n",
       "   INCOME_AMT_25000-99999  INCOME_AMT_50M+  INCOME_AMT_5M-10M  \\\n",
       "0                     0.0              0.0                0.0   \n",
       "1                     0.0              0.0                0.0   \n",
       "2                     0.0              0.0                0.0   \n",
       "3                     0.0              0.0                0.0   \n",
       "4                     0.0              0.0                0.0   \n",
       "\n",
       "   SPECIAL_CONSIDERATIONS_N  SPECIAL_CONSIDERATIONS_Y  \n",
       "0                       1.0                       0.0  \n",
       "1                       1.0                       0.0  \n",
       "2                       1.0                       0.0  \n",
       "3                       1.0                       0.0  \n",
       "4                       1.0                       0.0  \n",
       "\n",
       "[5 rows x 114 columns]"
      ]
     },
     "execution_count": 227,
     "metadata": {},
     "output_type": "execute_result"
    }
   ],
   "source": [
    "# Create a DataFrame with the encoded variables\n",
    "encoded_df = pd.DataFrame(\n",
    "    encoded_data,\n",
    "    columns = enc.get_feature_names_out(categorical_variables)\n",
    ")\n",
    "\n",
    "# Review the DataFrame\n",
    "encoded_df.head()"
   ]
  },
  {
   "cell_type": "markdown",
   "metadata": {},
   "source": [
    "### Step 4: Add the original DataFrame’s numerical variables to the DataFrame containing the encoded variables.\n",
    "\n",
    "> **Note** To complete this step, you will employ the Pandas `concat()` function that was introduced earlier in this course. "
   ]
  },
  {
   "cell_type": "code",
   "execution_count": 228,
   "metadata": {},
   "outputs": [
    {
     "data": {
      "text/html": [
       "<div>\n",
       "<style scoped>\n",
       "    .dataframe tbody tr th:only-of-type {\n",
       "        vertical-align: middle;\n",
       "    }\n",
       "\n",
       "    .dataframe tbody tr th {\n",
       "        vertical-align: top;\n",
       "    }\n",
       "\n",
       "    .dataframe thead th {\n",
       "        text-align: right;\n",
       "    }\n",
       "</style>\n",
       "<table border=\"1\" class=\"dataframe\">\n",
       "  <thead>\n",
       "    <tr style=\"text-align: right;\">\n",
       "      <th></th>\n",
       "      <th>APPLICATION_TYPE_T10</th>\n",
       "      <th>APPLICATION_TYPE_T12</th>\n",
       "      <th>APPLICATION_TYPE_T13</th>\n",
       "      <th>APPLICATION_TYPE_T14</th>\n",
       "      <th>APPLICATION_TYPE_T15</th>\n",
       "      <th>APPLICATION_TYPE_T17</th>\n",
       "      <th>APPLICATION_TYPE_T19</th>\n",
       "      <th>APPLICATION_TYPE_T2</th>\n",
       "      <th>APPLICATION_TYPE_T25</th>\n",
       "      <th>APPLICATION_TYPE_T29</th>\n",
       "      <th>...</th>\n",
       "      <th>INCOME_AMT_10M-50M</th>\n",
       "      <th>INCOME_AMT_1M-5M</th>\n",
       "      <th>INCOME_AMT_25000-99999</th>\n",
       "      <th>INCOME_AMT_50M+</th>\n",
       "      <th>INCOME_AMT_5M-10M</th>\n",
       "      <th>SPECIAL_CONSIDERATIONS_N</th>\n",
       "      <th>SPECIAL_CONSIDERATIONS_Y</th>\n",
       "      <th>STATUS</th>\n",
       "      <th>ASK_AMT</th>\n",
       "      <th>IS_SUCCESSFUL</th>\n",
       "    </tr>\n",
       "  </thead>\n",
       "  <tbody>\n",
       "    <tr>\n",
       "      <th>0</th>\n",
       "      <td>1.0</td>\n",
       "      <td>0.0</td>\n",
       "      <td>0.0</td>\n",
       "      <td>0.0</td>\n",
       "      <td>0.0</td>\n",
       "      <td>0.0</td>\n",
       "      <td>0.0</td>\n",
       "      <td>0.0</td>\n",
       "      <td>0.0</td>\n",
       "      <td>0.0</td>\n",
       "      <td>...</td>\n",
       "      <td>0.0</td>\n",
       "      <td>0.0</td>\n",
       "      <td>0.0</td>\n",
       "      <td>0.0</td>\n",
       "      <td>0.0</td>\n",
       "      <td>1.0</td>\n",
       "      <td>0.0</td>\n",
       "      <td>1</td>\n",
       "      <td>5000</td>\n",
       "      <td>1</td>\n",
       "    </tr>\n",
       "    <tr>\n",
       "      <th>1</th>\n",
       "      <td>0.0</td>\n",
       "      <td>0.0</td>\n",
       "      <td>0.0</td>\n",
       "      <td>0.0</td>\n",
       "      <td>0.0</td>\n",
       "      <td>0.0</td>\n",
       "      <td>0.0</td>\n",
       "      <td>0.0</td>\n",
       "      <td>0.0</td>\n",
       "      <td>0.0</td>\n",
       "      <td>...</td>\n",
       "      <td>0.0</td>\n",
       "      <td>0.0</td>\n",
       "      <td>0.0</td>\n",
       "      <td>0.0</td>\n",
       "      <td>0.0</td>\n",
       "      <td>1.0</td>\n",
       "      <td>0.0</td>\n",
       "      <td>1</td>\n",
       "      <td>108590</td>\n",
       "      <td>1</td>\n",
       "    </tr>\n",
       "    <tr>\n",
       "      <th>2</th>\n",
       "      <td>0.0</td>\n",
       "      <td>0.0</td>\n",
       "      <td>0.0</td>\n",
       "      <td>0.0</td>\n",
       "      <td>0.0</td>\n",
       "      <td>0.0</td>\n",
       "      <td>0.0</td>\n",
       "      <td>0.0</td>\n",
       "      <td>0.0</td>\n",
       "      <td>0.0</td>\n",
       "      <td>...</td>\n",
       "      <td>0.0</td>\n",
       "      <td>0.0</td>\n",
       "      <td>0.0</td>\n",
       "      <td>0.0</td>\n",
       "      <td>0.0</td>\n",
       "      <td>1.0</td>\n",
       "      <td>0.0</td>\n",
       "      <td>1</td>\n",
       "      <td>5000</td>\n",
       "      <td>0</td>\n",
       "    </tr>\n",
       "    <tr>\n",
       "      <th>3</th>\n",
       "      <td>0.0</td>\n",
       "      <td>0.0</td>\n",
       "      <td>0.0</td>\n",
       "      <td>0.0</td>\n",
       "      <td>0.0</td>\n",
       "      <td>0.0</td>\n",
       "      <td>0.0</td>\n",
       "      <td>0.0</td>\n",
       "      <td>0.0</td>\n",
       "      <td>0.0</td>\n",
       "      <td>...</td>\n",
       "      <td>0.0</td>\n",
       "      <td>0.0</td>\n",
       "      <td>0.0</td>\n",
       "      <td>0.0</td>\n",
       "      <td>0.0</td>\n",
       "      <td>1.0</td>\n",
       "      <td>0.0</td>\n",
       "      <td>1</td>\n",
       "      <td>6692</td>\n",
       "      <td>1</td>\n",
       "    </tr>\n",
       "    <tr>\n",
       "      <th>4</th>\n",
       "      <td>0.0</td>\n",
       "      <td>0.0</td>\n",
       "      <td>0.0</td>\n",
       "      <td>0.0</td>\n",
       "      <td>0.0</td>\n",
       "      <td>0.0</td>\n",
       "      <td>0.0</td>\n",
       "      <td>0.0</td>\n",
       "      <td>0.0</td>\n",
       "      <td>0.0</td>\n",
       "      <td>...</td>\n",
       "      <td>0.0</td>\n",
       "      <td>0.0</td>\n",
       "      <td>0.0</td>\n",
       "      <td>0.0</td>\n",
       "      <td>0.0</td>\n",
       "      <td>1.0</td>\n",
       "      <td>0.0</td>\n",
       "      <td>1</td>\n",
       "      <td>142590</td>\n",
       "      <td>1</td>\n",
       "    </tr>\n",
       "  </tbody>\n",
       "</table>\n",
       "<p>5 rows × 117 columns</p>\n",
       "</div>"
      ],
      "text/plain": [
       "   APPLICATION_TYPE_T10  APPLICATION_TYPE_T12  APPLICATION_TYPE_T13  \\\n",
       "0                   1.0                   0.0                   0.0   \n",
       "1                   0.0                   0.0                   0.0   \n",
       "2                   0.0                   0.0                   0.0   \n",
       "3                   0.0                   0.0                   0.0   \n",
       "4                   0.0                   0.0                   0.0   \n",
       "\n",
       "   APPLICATION_TYPE_T14  APPLICATION_TYPE_T15  APPLICATION_TYPE_T17  \\\n",
       "0                   0.0                   0.0                   0.0   \n",
       "1                   0.0                   0.0                   0.0   \n",
       "2                   0.0                   0.0                   0.0   \n",
       "3                   0.0                   0.0                   0.0   \n",
       "4                   0.0                   0.0                   0.0   \n",
       "\n",
       "   APPLICATION_TYPE_T19  APPLICATION_TYPE_T2  APPLICATION_TYPE_T25  \\\n",
       "0                   0.0                  0.0                   0.0   \n",
       "1                   0.0                  0.0                   0.0   \n",
       "2                   0.0                  0.0                   0.0   \n",
       "3                   0.0                  0.0                   0.0   \n",
       "4                   0.0                  0.0                   0.0   \n",
       "\n",
       "   APPLICATION_TYPE_T29  ...  INCOME_AMT_10M-50M  INCOME_AMT_1M-5M  \\\n",
       "0                   0.0  ...                 0.0               0.0   \n",
       "1                   0.0  ...                 0.0               0.0   \n",
       "2                   0.0  ...                 0.0               0.0   \n",
       "3                   0.0  ...                 0.0               0.0   \n",
       "4                   0.0  ...                 0.0               0.0   \n",
       "\n",
       "   INCOME_AMT_25000-99999  INCOME_AMT_50M+  INCOME_AMT_5M-10M  \\\n",
       "0                     0.0              0.0                0.0   \n",
       "1                     0.0              0.0                0.0   \n",
       "2                     0.0              0.0                0.0   \n",
       "3                     0.0              0.0                0.0   \n",
       "4                     0.0              0.0                0.0   \n",
       "\n",
       "   SPECIAL_CONSIDERATIONS_N  SPECIAL_CONSIDERATIONS_Y  STATUS  ASK_AMT  \\\n",
       "0                       1.0                       0.0       1     5000   \n",
       "1                       1.0                       0.0       1   108590   \n",
       "2                       1.0                       0.0       1     5000   \n",
       "3                       1.0                       0.0       1     6692   \n",
       "4                       1.0                       0.0       1   142590   \n",
       "\n",
       "   IS_SUCCESSFUL  \n",
       "0              1  \n",
       "1              1  \n",
       "2              0  \n",
       "3              1  \n",
       "4              1  \n",
       "\n",
       "[5 rows x 117 columns]"
      ]
     },
     "execution_count": 228,
     "metadata": {},
     "output_type": "execute_result"
    }
   ],
   "source": [
    "# Add the numerical variables from the original DataFrame to the one-hot encoding DataFrame\n",
    "numerical_vals = applicant_data_df.select_dtypes(include=['int64']).columns\n",
    "\n",
    "encoded_df = pd.concat([encoded_df,applicant_data_df[numerical_vals]], axis=\"columns\", join=\"outer\")\n",
    "\n",
    "# Review the Dataframe\n",
    "encoded_df.head()"
   ]
  },
  {
   "cell_type": "markdown",
   "metadata": {},
   "source": [
    "### Step 5: Using the preprocessed data, create the features (`X`) and target (`y`) datasets. The target dataset should be defined by the preprocessed DataFrame column “IS_SUCCESSFUL”. The remaining columns should define the features dataset. \n",
    "\n"
   ]
  },
  {
   "cell_type": "code",
   "execution_count": 229,
   "metadata": {},
   "outputs": [
    {
     "data": {
      "text/plain": [
       "array([1, 1, 0, 1, 1, 1, 1, 1, 1], dtype=int64)"
      ]
     },
     "execution_count": 229,
     "metadata": {},
     "output_type": "execute_result"
    }
   ],
   "source": [
    "# Define the target set y using the IS_SUCCESSFUL column\n",
    "y = encoded_df[\"IS_SUCCESSFUL\"].values\n",
    "\n",
    "# Display a sample of y\n",
    "y[0:9]\n"
   ]
  },
  {
   "cell_type": "code",
   "execution_count": 230,
   "metadata": {},
   "outputs": [
    {
     "data": {
      "text/plain": [
       "array([[1.000000e+00, 0.000000e+00, 0.000000e+00, ..., 0.000000e+00,\n",
       "        1.000000e+00, 5.000000e+03],\n",
       "       [0.000000e+00, 0.000000e+00, 0.000000e+00, ..., 0.000000e+00,\n",
       "        1.000000e+00, 1.085900e+05],\n",
       "       [0.000000e+00, 0.000000e+00, 0.000000e+00, ..., 0.000000e+00,\n",
       "        1.000000e+00, 5.000000e+03],\n",
       "       ...,\n",
       "       [0.000000e+00, 0.000000e+00, 0.000000e+00, ..., 0.000000e+00,\n",
       "        1.000000e+00, 3.145200e+04],\n",
       "       [0.000000e+00, 0.000000e+00, 0.000000e+00, ..., 0.000000e+00,\n",
       "        1.000000e+00, 7.508025e+06],\n",
       "       [0.000000e+00, 0.000000e+00, 0.000000e+00, ..., 0.000000e+00,\n",
       "        1.000000e+00, 9.438900e+04]])"
      ]
     },
     "execution_count": 230,
     "metadata": {},
     "output_type": "execute_result"
    }
   ],
   "source": [
    "# Define features set X by selecting all columns but IS_SUCCESSFUL\n",
    "X = encoded_df.drop(columns=[\"IS_SUCCESSFUL\"]).values\n",
    "\n",
    "# Review the features DataFrame\n",
    "X[0:9]\n"
   ]
  },
  {
   "cell_type": "markdown",
   "metadata": {},
   "source": [
    "### Step 6: Split the features and target sets into training and testing datasets.\n"
   ]
  },
  {
   "cell_type": "code",
   "execution_count": 231,
   "metadata": {},
   "outputs": [],
   "source": [
    "# Split the preprocessed data into a training and testing dataset\n",
    "# Assign the function a random_state equal to 1\n",
    "X_train, X_test, y_train, y_test = train_test_split(X, y, random_state=1)\n"
   ]
  },
  {
   "cell_type": "markdown",
   "metadata": {},
   "source": [
    "### Step 7: Use scikit-learn's `StandardScaler` to scale the features data."
   ]
  },
  {
   "cell_type": "code",
   "execution_count": 232,
   "metadata": {},
   "outputs": [],
   "source": [
    "# Create a StandardScaler instance\n",
    "scaler = StandardScaler()\n",
    "\n",
    "# Fit the scaler to the features training dataset\n",
    "X_scaler = scaler.fit(X_train)\n",
    "\n",
    "# Fit the scaler to the features training dataset\n",
    "X_train_scaled = X_scaler.transform(X_train)\n",
    "X_test_scaled = X_scaler.transform(X_test)\n"
   ]
  },
  {
   "cell_type": "markdown",
   "metadata": {},
   "source": [
    "---\n",
    "\n",
    "## Compile and Evaluate a Binary Classification Model Using a Neural Network"
   ]
  },
  {
   "cell_type": "markdown",
   "metadata": {},
   "source": [
    "### Step 1: Create a deep neural network by assigning the number of input features, the number of layers, and the number of neurons on each layer using Tensorflow’s Keras.\n",
    "\n",
    "> **Hint** You can start with a two-layer deep neural network model that uses the `relu` activation function for both layers.\n"
   ]
  },
  {
   "cell_type": "code",
   "execution_count": 233,
   "metadata": {},
   "outputs": [
    {
     "data": {
      "text/plain": [
       "116"
      ]
     },
     "execution_count": 233,
     "metadata": {},
     "output_type": "execute_result"
    }
   ],
   "source": [
    "# Define the the number of inputs (features) to the model\n",
    "number_input_features = 116\n",
    "\n",
    "# Review the number of features\n",
    "number_input_features\n"
   ]
  },
  {
   "cell_type": "code",
   "execution_count": 234,
   "metadata": {},
   "outputs": [],
   "source": [
    "# Define the number of neurons in the output layer\n",
    "number_output_neurons = 1"
   ]
  },
  {
   "cell_type": "code",
   "execution_count": 235,
   "metadata": {},
   "outputs": [
    {
     "data": {
      "text/plain": [
       "59"
      ]
     },
     "execution_count": 235,
     "metadata": {},
     "output_type": "execute_result"
    }
   ],
   "source": [
    "# Define the number of hidden nodes for the first hidden layer\n",
    "hidden_nodes_layer1 =  59\n",
    "\n",
    "# Review the number hidden nodes in the first layer\n",
    "hidden_nodes_layer1\n"
   ]
  },
  {
   "cell_type": "code",
   "execution_count": 236,
   "metadata": {},
   "outputs": [
    {
     "data": {
      "text/plain": [
       "19"
      ]
     },
     "execution_count": 236,
     "metadata": {},
     "output_type": "execute_result"
    }
   ],
   "source": [
    "# Define the number of hidden nodes for the second hidden layer\n",
    "hidden_nodes_layer2 =  19\n",
    "\n",
    "# Review the number hidden nodes in the second layer\n",
    "hidden_nodes_layer2\n"
   ]
  },
  {
   "cell_type": "code",
   "execution_count": 237,
   "metadata": {},
   "outputs": [],
   "source": [
    "# Create the Sequential model instance\n",
    "nn = Sequential()\n"
   ]
  },
  {
   "cell_type": "code",
   "execution_count": 238,
   "metadata": {},
   "outputs": [],
   "source": [
    "# Add the first hidden layer\n",
    "nn.add(Dense(units=hidden_nodes_layer1, input_dim=number_input_features, activation=\"relu\"))\n"
   ]
  },
  {
   "cell_type": "code",
   "execution_count": 239,
   "metadata": {},
   "outputs": [],
   "source": [
    "# Add the second hidden layer\n",
    "nn.add(Dense(units=hidden_nodes_layer2, input_dim=number_input_features, activation=\"relu\"))"
   ]
  },
  {
   "cell_type": "code",
   "execution_count": 240,
   "metadata": {},
   "outputs": [],
   "source": [
    "# Add the output layer to the model specifying the number of output neurons and activation function\n",
    "nn.add(Dense(units=number_output_neurons, activation=\"linear\"))\n"
   ]
  },
  {
   "cell_type": "code",
   "execution_count": 241,
   "metadata": {},
   "outputs": [
    {
     "name": "stdout",
     "output_type": "stream",
     "text": [
      "Model: \"sequential_20\"\n",
      "_________________________________________________________________\n",
      " Layer (type)                Output Shape              Param #   \n",
      "=================================================================\n",
      " dense_54 (Dense)            (None, 59)                6903      \n",
      "                                                                 \n",
      " dense_55 (Dense)            (None, 19)                1140      \n",
      "                                                                 \n",
      " dense_56 (Dense)            (None, 1)                 20        \n",
      "                                                                 \n",
      "=================================================================\n",
      "Total params: 8,063\n",
      "Trainable params: 8,063\n",
      "Non-trainable params: 0\n",
      "_________________________________________________________________\n"
     ]
    }
   ],
   "source": [
    "# Display the Sequential model summary\n",
    "nn.summary()"
   ]
  },
  {
   "cell_type": "markdown",
   "metadata": {},
   "source": [
    "### Step 2: Compile and fit the model using the `binary_crossentropy` loss function, the `adam` optimizer, and the `accuracy` evaluation metric.\n"
   ]
  },
  {
   "cell_type": "code",
   "execution_count": 242,
   "metadata": {},
   "outputs": [],
   "source": [
    "# Compile the Sequential model\n",
    "nn.compile(loss=\"binary_crossentropy\", optimizer=\"adam\", metrics=[\"accuracy\"])\n"
   ]
  },
  {
   "cell_type": "code",
   "execution_count": 243,
   "metadata": {},
   "outputs": [
    {
     "name": "stdout",
     "output_type": "stream",
     "text": [
      "Epoch 1/50\n",
      "804/804 [==============================] - 2s 2ms/step - loss: 1.1642 - accuracy: 0.6890\n",
      "Epoch 2/50\n",
      "804/804 [==============================] - 2s 2ms/step - loss: 0.8525 - accuracy: 0.7110\n",
      "Epoch 3/50\n",
      "804/804 [==============================] - 2s 2ms/step - loss: 0.9459 - accuracy: 0.7022\n",
      "Epoch 4/50\n",
      "804/804 [==============================] - 2s 2ms/step - loss: 0.7492 - accuracy: 0.7226\n",
      "Epoch 5/50\n",
      "804/804 [==============================] - 2s 2ms/step - loss: 0.7309 - accuracy: 0.7212\n",
      "Epoch 6/50\n",
      "804/804 [==============================] - 2s 2ms/step - loss: 0.7269 - accuracy: 0.7265\n",
      "Epoch 7/50\n",
      "804/804 [==============================] - 2s 2ms/step - loss: 0.7189 - accuracy: 0.7276\n",
      "Epoch 8/50\n",
      "804/804 [==============================] - 2s 2ms/step - loss: 0.7302 - accuracy: 0.7274\n",
      "Epoch 9/50\n",
      "804/804 [==============================] - 2s 2ms/step - loss: 0.7125 - accuracy: 0.7232\n",
      "Epoch 10/50\n",
      "804/804 [==============================] - 2s 2ms/step - loss: 0.7029 - accuracy: 0.7259\n",
      "Epoch 11/50\n",
      "804/804 [==============================] - 2s 2ms/step - loss: 0.7210 - accuracy: 0.7293\n",
      "Epoch 12/50\n",
      "804/804 [==============================] - 2s 2ms/step - loss: 0.7056 - accuracy: 0.7313\n",
      "Epoch 13/50\n",
      "804/804 [==============================] - 2s 2ms/step - loss: 0.6982 - accuracy: 0.7251\n",
      "Epoch 14/50\n",
      "804/804 [==============================] - 2s 2ms/step - loss: 0.6805 - accuracy: 0.7314\n",
      "Epoch 15/50\n",
      "804/804 [==============================] - 2s 2ms/step - loss: 0.6642 - accuracy: 0.7320\n",
      "Epoch 16/50\n",
      "804/804 [==============================] - 2s 2ms/step - loss: 0.6669 - accuracy: 0.7322\n",
      "Epoch 17/50\n",
      "804/804 [==============================] - 2s 2ms/step - loss: 0.6634 - accuracy: 0.7268\n",
      "Epoch 18/50\n",
      "804/804 [==============================] - 2s 2ms/step - loss: 0.6513 - accuracy: 0.7289\n",
      "Epoch 19/50\n",
      "804/804 [==============================] - 2s 2ms/step - loss: 0.6554 - accuracy: 0.7312\n",
      "Epoch 20/50\n",
      "804/804 [==============================] - 2s 2ms/step - loss: 0.6603 - accuracy: 0.7205\n",
      "Epoch 21/50\n",
      "804/804 [==============================] - 2s 2ms/step - loss: 0.6544 - accuracy: 0.7330\n",
      "Epoch 22/50\n",
      "804/804 [==============================] - 2s 2ms/step - loss: 0.6553 - accuracy: 0.7326\n",
      "Epoch 23/50\n",
      "804/804 [==============================] - 2s 2ms/step - loss: 0.6542 - accuracy: 0.7305\n",
      "Epoch 24/50\n",
      "804/804 [==============================] - 2s 2ms/step - loss: 0.6623 - accuracy: 0.7324\n",
      "Epoch 25/50\n",
      "804/804 [==============================] - 2s 2ms/step - loss: 0.6528 - accuracy: 0.7320\n",
      "Epoch 26/50\n",
      "804/804 [==============================] - 2s 2ms/step - loss: 0.6370 - accuracy: 0.7257\n",
      "Epoch 27/50\n",
      "804/804 [==============================] - 2s 2ms/step - loss: 0.6166 - accuracy: 0.7303\n",
      "Epoch 28/50\n",
      "804/804 [==============================] - 2s 2ms/step - loss: 0.6283 - accuracy: 0.7344\n",
      "Epoch 29/50\n",
      "804/804 [==============================] - 2s 2ms/step - loss: 0.6234 - accuracy: 0.7326\n",
      "Epoch 30/50\n",
      "804/804 [==============================] - 2s 2ms/step - loss: 0.6135 - accuracy: 0.7276\n",
      "Epoch 31/50\n",
      "804/804 [==============================] - 2s 2ms/step - loss: 0.6018 - accuracy: 0.7309\n",
      "Epoch 32/50\n",
      "804/804 [==============================] - 2s 2ms/step - loss: 0.5885 - accuracy: 0.7265\n",
      "Epoch 33/50\n",
      "804/804 [==============================] - 2s 2ms/step - loss: 0.5723 - accuracy: 0.7331\n",
      "Epoch 34/50\n",
      "804/804 [==============================] - 2s 2ms/step - loss: 0.5781 - accuracy: 0.7304\n",
      "Epoch 35/50\n",
      "804/804 [==============================] - 2s 2ms/step - loss: 0.5889 - accuracy: 0.7342\n",
      "Epoch 36/50\n",
      "804/804 [==============================] - 2s 2ms/step - loss: 0.5714 - accuracy: 0.7348\n",
      "Epoch 37/50\n",
      "804/804 [==============================] - 2s 2ms/step - loss: 0.5798 - accuracy: 0.7329\n",
      "Epoch 38/50\n",
      "804/804 [==============================] - 2s 2ms/step - loss: 0.5829 - accuracy: 0.7315\n",
      "Epoch 39/50\n",
      "804/804 [==============================] - 2s 2ms/step - loss: 0.5852 - accuracy: 0.7333\n",
      "Epoch 40/50\n",
      "804/804 [==============================] - 2s 2ms/step - loss: 0.5735 - accuracy: 0.7355\n",
      "Epoch 41/50\n",
      "804/804 [==============================] - 2s 2ms/step - loss: 0.5847 - accuracy: 0.7278\n",
      "Epoch 42/50\n",
      "804/804 [==============================] - 2s 2ms/step - loss: 0.5930 - accuracy: 0.7306\n",
      "Epoch 43/50\n",
      "804/804 [==============================] - 2s 2ms/step - loss: 0.5777 - accuracy: 0.7355\n",
      "Epoch 44/50\n",
      "804/804 [==============================] - 2s 2ms/step - loss: 0.5742 - accuracy: 0.7359\n",
      "Epoch 45/50\n",
      "804/804 [==============================] - 2s 2ms/step - loss: 0.5770 - accuracy: 0.7373\n",
      "Epoch 46/50\n",
      "804/804 [==============================] - 2s 3ms/step - loss: 0.5777 - accuracy: 0.7355\n",
      "Epoch 47/50\n",
      "804/804 [==============================] - 2s 2ms/step - loss: 0.5717 - accuracy: 0.7353\n",
      "Epoch 48/50\n",
      "804/804 [==============================] - 2s 2ms/step - loss: 0.5750 - accuracy: 0.7357\n",
      "Epoch 49/50\n",
      "804/804 [==============================] - 2s 2ms/step - loss: 0.6060 - accuracy: 0.7093\n",
      "Epoch 50/50\n",
      "804/804 [==============================] - 2s 2ms/step - loss: 0.5951 - accuracy: 0.7325\n"
     ]
    }
   ],
   "source": [
    "# Fit the model using 50 epochs and the training data\n",
    "deep_net_model = nn.fit(X_train_scaled, y_train, epochs=50)\n"
   ]
  },
  {
   "cell_type": "markdown",
   "metadata": {},
   "source": [
    "### Step 3: Evaluate the model using the test data to determine the model’s loss and accuracy.\n"
   ]
  },
  {
   "cell_type": "code",
   "execution_count": 245,
   "metadata": {},
   "outputs": [
    {
     "name": "stdout",
     "output_type": "stream",
     "text": [
      "268/268 - 0s - loss: 0.6033 - accuracy: 0.7285 - 356ms/epoch - 1ms/step\n",
      "Loss: 0.6033415198326111, Accuracy: 0.7285131216049194\n"
     ]
    }
   ],
   "source": [
    "# Evaluate the model loss and accuracy metrics using the evaluate method and the test data\n",
    "model_loss, model_accuracy = nn.evaluate(X_test_scaled, y_test, verbose=2)\n",
    "\n",
    "# Display the model loss and accuracy results\n",
    "print(f\"Loss: {model_loss}, Accuracy: {model_accuracy}\")"
   ]
  },
  {
   "cell_type": "markdown",
   "metadata": {},
   "source": [
    "### Step 4: Save and export your model to an HDF5 file, and name the file `AlphabetSoup.h5`. \n"
   ]
  },
  {
   "cell_type": "code",
   "execution_count": 246,
   "metadata": {},
   "outputs": [],
   "source": [
    "# Set the model's file path\n",
    "file_path = Path(\"venture_funding_model_trained.h5\")\n",
    "\n",
    "# Export your model to a HDF5 file\n",
    "nn.save(file_path)"
   ]
  },
  {
   "cell_type": "markdown",
   "metadata": {},
   "source": [
    "---\n",
    "\n",
    "## Optimize the neural network model\n"
   ]
  },
  {
   "cell_type": "markdown",
   "metadata": {},
   "source": [
    "### Step 1: Define at least three new deep neural network models (resulting in the original plus 3 optimization attempts). With each, try to improve on your first model’s predictive accuracy.\n",
    "\n",
    "> **Rewind** Recall that perfect accuracy has a value of 1, so accuracy improves as its value moves closer to 1. To optimize your model for a predictive accuracy as close to 1 as possible, you can use any or all of the following techniques:\n",
    ">\n",
    "> * Adjust the input data by dropping different features columns to ensure that no variables or outliers confuse the model.\n",
    ">\n",
    "> * Add more neurons (nodes) to a hidden layer.\n",
    ">\n",
    "> * Add more hidden layers.\n",
    ">\n",
    "> * Use different activation functions for the hidden layers.\n",
    ">\n",
    "> * Add to or reduce the number of epochs in the training regimen.\n"
   ]
  },
  {
   "cell_type": "markdown",
   "metadata": {},
   "source": [
    "### Alternative Model 1: 1 hidden layer, 50 epochs"
   ]
  },
  {
   "cell_type": "code",
   "execution_count": 247,
   "metadata": {},
   "outputs": [
    {
     "data": {
      "text/plain": [
       "116"
      ]
     },
     "execution_count": 247,
     "metadata": {},
     "output_type": "execute_result"
    }
   ],
   "source": [
    "# Define the the number of inputs (features) to the model\n",
    "number_input_features = len(X_train[0])\n",
    "\n",
    "# Review the number of features\n",
    "number_input_features"
   ]
  },
  {
   "cell_type": "code",
   "execution_count": 248,
   "metadata": {},
   "outputs": [],
   "source": [
    "# Define the number of neurons in the output layer\n",
    "number_output_neurons_A1 = 1"
   ]
  },
  {
   "cell_type": "code",
   "execution_count": 249,
   "metadata": {},
   "outputs": [
    {
     "data": {
      "text/plain": [
       "58"
      ]
     },
     "execution_count": 249,
     "metadata": {},
     "output_type": "execute_result"
    }
   ],
   "source": [
    "# Define the number of hidden nodes for the first hidden layer\n",
    "hidden_nodes_layer1_A1 = 58\n",
    "\n",
    "# Review the number of hidden nodes in the first layer\n",
    "hidden_nodes_layer1_A1"
   ]
  },
  {
   "cell_type": "code",
   "execution_count": 250,
   "metadata": {},
   "outputs": [],
   "source": [
    "# Create the Sequential model instance\n",
    "nn_A1 = Sequential()"
   ]
  },
  {
   "cell_type": "code",
   "execution_count": 251,
   "metadata": {},
   "outputs": [
    {
     "name": "stdout",
     "output_type": "stream",
     "text": [
      "Model: \"sequential_21\"\n",
      "_________________________________________________________________\n",
      " Layer (type)                Output Shape              Param #   \n",
      "=================================================================\n",
      " dense_57 (Dense)            (None, 58)                6786      \n",
      "                                                                 \n",
      " dense_58 (Dense)            (None, 1)                 59        \n",
      "                                                                 \n",
      "=================================================================\n",
      "Total params: 6,845\n",
      "Trainable params: 6,845\n",
      "Non-trainable params: 0\n",
      "_________________________________________________________________\n"
     ]
    }
   ],
   "source": [
    "# First hidden layer\n",
    "nn_A1.add(Dense(units=hidden_nodes_layer1_A1, input_dim=number_input_features, activation=\"relu\"))\n",
    "\n",
    "# Output layer\n",
    "nn_A1.add(Dense(units=number_output_neurons_A1, activation=\"linear\"))\n",
    "\n",
    "\n",
    "# Check the structure of the model\n",
    "nn_A1.summary()"
   ]
  },
  {
   "cell_type": "code",
   "execution_count": 252,
   "metadata": {},
   "outputs": [],
   "source": [
    "# Compile the Sequential model\n",
    "nn_A1.compile(loss=\"binary_crossentropy\", optimizer=\"adam\", metrics=[\"accuracy\"])\n"
   ]
  },
  {
   "cell_type": "code",
   "execution_count": 253,
   "metadata": {},
   "outputs": [
    {
     "name": "stdout",
     "output_type": "stream",
     "text": [
      "Epoch 1/50\n",
      "804/804 [==============================] - 2s 2ms/step - loss: 3.2397 - accuracy: 0.6242\n",
      "Epoch 2/50\n",
      "804/804 [==============================] - 2s 2ms/step - loss: 2.5220 - accuracy: 0.6616\n",
      "Epoch 3/50\n",
      "804/804 [==============================] - 2s 2ms/step - loss: 2.1305 - accuracy: 0.6572\n",
      "Epoch 4/50\n",
      "804/804 [==============================] - 2s 2ms/step - loss: 2.0568 - accuracy: 0.6759\n",
      "Epoch 5/50\n",
      "804/804 [==============================] - 2s 2ms/step - loss: 1.7820 - accuracy: 0.6703\n",
      "Epoch 6/50\n",
      "804/804 [==============================] - 2s 2ms/step - loss: 1.3106 - accuracy: 0.6948\n",
      "Epoch 7/50\n",
      "804/804 [==============================] - 2s 2ms/step - loss: 1.1935 - accuracy: 0.7061\n",
      "Epoch 8/50\n",
      "804/804 [==============================] - 2s 2ms/step - loss: 1.1644 - accuracy: 0.7096\n",
      "Epoch 9/50\n",
      "804/804 [==============================] - 2s 2ms/step - loss: 1.1455 - accuracy: 0.7098\n",
      "Epoch 10/50\n",
      "804/804 [==============================] - 2s 2ms/step - loss: 1.1323 - accuracy: 0.7003\n",
      "Epoch 11/50\n",
      "804/804 [==============================] - 2s 2ms/step - loss: 1.1397 - accuracy: 0.7024\n",
      "Epoch 12/50\n",
      "804/804 [==============================] - 2s 2ms/step - loss: 1.5669 - accuracy: 0.6813\n",
      "Epoch 13/50\n",
      "804/804 [==============================] - 2s 2ms/step - loss: 1.3358 - accuracy: 0.6792\n",
      "Epoch 14/50\n",
      "804/804 [==============================] - 2s 2ms/step - loss: 1.1660 - accuracy: 0.6804\n",
      "Epoch 15/50\n",
      "804/804 [==============================] - 2s 2ms/step - loss: 1.1611 - accuracy: 0.7072\n",
      "Epoch 16/50\n",
      "804/804 [==============================] - 2s 2ms/step - loss: 1.1545 - accuracy: 0.7066\n",
      "Epoch 17/50\n",
      "804/804 [==============================] - 2s 2ms/step - loss: 1.1549 - accuracy: 0.7018\n",
      "Epoch 18/50\n",
      "804/804 [==============================] - 2s 2ms/step - loss: 1.1325 - accuracy: 0.7071\n",
      "Epoch 19/50\n",
      "804/804 [==============================] - 2s 2ms/step - loss: 1.1534 - accuracy: 0.6964\n",
      "Epoch 20/50\n",
      "804/804 [==============================] - 2s 2ms/step - loss: 1.0123 - accuracy: 0.7165\n",
      "Epoch 21/50\n",
      "804/804 [==============================] - 2s 2ms/step - loss: 0.9700 - accuracy: 0.7170\n",
      "Epoch 22/50\n",
      "804/804 [==============================] - 2s 2ms/step - loss: 1.0083 - accuracy: 0.7125\n",
      "Epoch 23/50\n",
      "804/804 [==============================] - 2s 2ms/step - loss: 0.9688 - accuracy: 0.7175\n",
      "Epoch 24/50\n",
      "804/804 [==============================] - 2s 2ms/step - loss: 0.9619 - accuracy: 0.7102\n",
      "Epoch 25/50\n",
      "804/804 [==============================] - 2s 2ms/step - loss: 0.9199 - accuracy: 0.7229\n",
      "Epoch 26/50\n",
      "804/804 [==============================] - 2s 2ms/step - loss: 0.9149 - accuracy: 0.7252\n",
      "Epoch 27/50\n",
      "804/804 [==============================] - 2s 2ms/step - loss: 0.9113 - accuracy: 0.7206\n",
      "Epoch 28/50\n",
      "804/804 [==============================] - 2s 2ms/step - loss: 0.8893 - accuracy: 0.7175\n",
      "Epoch 29/50\n",
      "804/804 [==============================] - 2s 2ms/step - loss: 0.8450 - accuracy: 0.7288\n",
      "Epoch 30/50\n",
      "804/804 [==============================] - 2s 2ms/step - loss: 0.8344 - accuracy: 0.7291\n",
      "Epoch 31/50\n",
      "804/804 [==============================] - 2s 2ms/step - loss: 0.8592 - accuracy: 0.7249\n",
      "Epoch 32/50\n",
      "804/804 [==============================] - 2s 2ms/step - loss: 0.8311 - accuracy: 0.7250\n",
      "Epoch 33/50\n",
      "804/804 [==============================] - 2s 2ms/step - loss: 0.8255 - accuracy: 0.7279\n",
      "Epoch 34/50\n",
      "804/804 [==============================] - 2s 2ms/step - loss: 0.8156 - accuracy: 0.7284\n",
      "Epoch 35/50\n",
      "804/804 [==============================] - 2s 2ms/step - loss: 0.8635 - accuracy: 0.7247\n",
      "Epoch 36/50\n",
      "804/804 [==============================] - 2s 2ms/step - loss: 0.8580 - accuracy: 0.7142\n",
      "Epoch 37/50\n",
      "804/804 [==============================] - 2s 2ms/step - loss: 0.8219 - accuracy: 0.7282\n",
      "Epoch 38/50\n",
      "804/804 [==============================] - 2s 2ms/step - loss: 0.9225 - accuracy: 0.7145\n",
      "Epoch 39/50\n",
      "804/804 [==============================] - 2s 2ms/step - loss: 0.9006 - accuracy: 0.7169\n",
      "Epoch 40/50\n",
      "804/804 [==============================] - 2s 2ms/step - loss: 0.9013 - accuracy: 0.7205\n",
      "Epoch 41/50\n",
      "804/804 [==============================] - 2s 2ms/step - loss: 0.8278 - accuracy: 0.7213\n",
      "Epoch 42/50\n",
      "804/804 [==============================] - 2s 2ms/step - loss: 0.7630 - accuracy: 0.7262\n",
      "Epoch 43/50\n",
      "804/804 [==============================] - 2s 2ms/step - loss: 0.9466 - accuracy: 0.7100\n",
      "Epoch 44/50\n",
      "804/804 [==============================] - 2s 2ms/step - loss: 0.8033 - accuracy: 0.7258\n",
      "Epoch 45/50\n",
      "804/804 [==============================] - 2s 2ms/step - loss: 0.7879 - accuracy: 0.7239\n",
      "Epoch 46/50\n",
      "804/804 [==============================] - 2s 2ms/step - loss: 0.7371 - accuracy: 0.7266\n",
      "Epoch 47/50\n",
      "804/804 [==============================] - 2s 2ms/step - loss: 0.7982 - accuracy: 0.7239\n",
      "Epoch 48/50\n",
      "804/804 [==============================] - 2s 2ms/step - loss: 0.7430 - accuracy: 0.7281\n",
      "Epoch 49/50\n",
      "804/804 [==============================] - 2s 2ms/step - loss: 0.7244 - accuracy: 0.7288\n",
      "Epoch 50/50\n",
      "804/804 [==============================] - 2s 2ms/step - loss: 0.7439 - accuracy: 0.7280\n"
     ]
    }
   ],
   "source": [
    "# Fit the model using 50 epochs and the training data\n",
    "fit_model_A1 = nn_A1.fit(X_train_scaled, y_train, epochs=50)"
   ]
  },
  {
   "cell_type": "markdown",
   "metadata": {},
   "source": [
    "### Alternative Model 2: 2 hidden layers, 100 epochs"
   ]
  },
  {
   "cell_type": "code",
   "execution_count": 254,
   "metadata": {},
   "outputs": [
    {
     "data": {
      "text/plain": [
       "116"
      ]
     },
     "execution_count": 254,
     "metadata": {},
     "output_type": "execute_result"
    }
   ],
   "source": [
    "# Define the the number of inputs (features) to the model\n",
    "number_input_features = len(X_train[0])\n",
    "\n",
    "# Review the number of features\n",
    "number_input_features"
   ]
  },
  {
   "cell_type": "code",
   "execution_count": 255,
   "metadata": {},
   "outputs": [],
   "source": [
    "# Define the number of neurons in the output layer\n",
    "number_output_neurons_A2 = 1"
   ]
  },
  {
   "cell_type": "code",
   "execution_count": 256,
   "metadata": {},
   "outputs": [
    {
     "data": {
      "text/plain": [
       "59"
      ]
     },
     "execution_count": 256,
     "metadata": {},
     "output_type": "execute_result"
    }
   ],
   "source": [
    "# Define the number of hidden nodes for the first hidden layer\n",
    "hidden_nodes_layer1_A2 = 59\n",
    "\n",
    "# Review the number of hidden nodes in the first layer\n",
    "hidden_nodes_layer1_A2"
   ]
  },
  {
   "cell_type": "code",
   "execution_count": 257,
   "metadata": {},
   "outputs": [
    {
     "data": {
      "text/plain": [
       "19"
      ]
     },
     "execution_count": 257,
     "metadata": {},
     "output_type": "execute_result"
    }
   ],
   "source": [
    "# Define the number of hidden nodes for the second hidden layer\n",
    "hidden_nodes_layer2_A2 =  19\n",
    "\n",
    "# Review the number hidden nodes in the second layer\n",
    "hidden_nodes_layer2_A2"
   ]
  },
  {
   "cell_type": "code",
   "execution_count": 258,
   "metadata": {},
   "outputs": [],
   "source": [
    "# Create the Sequential model instance\n",
    "nn_A2 = Sequential()"
   ]
  },
  {
   "cell_type": "code",
   "execution_count": 259,
   "metadata": {},
   "outputs": [
    {
     "name": "stdout",
     "output_type": "stream",
     "text": [
      "Model: \"sequential_22\"\n",
      "_________________________________________________________________\n",
      " Layer (type)                Output Shape              Param #   \n",
      "=================================================================\n",
      " dense_59 (Dense)            (None, 59)                6903      \n",
      "                                                                 \n",
      " dense_60 (Dense)            (None, 19)                1140      \n",
      "                                                                 \n",
      " dense_61 (Dense)            (None, 1)                 20        \n",
      "                                                                 \n",
      "=================================================================\n",
      "Total params: 8,063\n",
      "Trainable params: 8,063\n",
      "Non-trainable params: 0\n",
      "_________________________________________________________________\n"
     ]
    }
   ],
   "source": [
    "# First hidden layer\n",
    "nn_A2.add(Dense(units=hidden_nodes_layer1_A2, input_dim=number_input_features, activation=\"relu\"))\n",
    "\n",
    "# Second hidden layer\n",
    "nn_A2.add(Dense(units=hidden_nodes_layer2_A2, input_dim=number_input_features, activation=\"relu\"))\n",
    "\n",
    "# Output layer\n",
    "nn_A2.add(Dense(units=number_output_neurons_A2, activation=\"linear\"))\n",
    "\n",
    "# Check the structure of the model\n",
    "nn_A2.summary()"
   ]
  },
  {
   "cell_type": "code",
   "execution_count": 260,
   "metadata": {},
   "outputs": [],
   "source": [
    "# Compile the model\n",
    "nn_A2.compile(loss=\"binary_crossentropy\", optimizer=\"adam\", metrics=[\"accuracy\"])"
   ]
  },
  {
   "cell_type": "code",
   "execution_count": 261,
   "metadata": {},
   "outputs": [
    {
     "name": "stdout",
     "output_type": "stream",
     "text": [
      "Epoch 1/100\n",
      "804/804 [==============================] - 2s 2ms/step - loss: 1.3157 - accuracy: 0.6870\n",
      "Epoch 2/100\n",
      "804/804 [==============================] - 2s 2ms/step - loss: 1.0458 - accuracy: 0.7143\n",
      "Epoch 3/100\n",
      "804/804 [==============================] - 2s 2ms/step - loss: 0.8989 - accuracy: 0.7180\n",
      "Epoch 4/100\n",
      "804/804 [==============================] - 2s 2ms/step - loss: 1.0164 - accuracy: 0.7037\n",
      "Epoch 5/100\n",
      "804/804 [==============================] - 2s 2ms/step - loss: 0.7985 - accuracy: 0.7201\n",
      "Epoch 6/100\n",
      "804/804 [==============================] - 2s 2ms/step - loss: 0.8241 - accuracy: 0.7158\n",
      "Epoch 7/100\n",
      "804/804 [==============================] - 2s 2ms/step - loss: 0.8089 - accuracy: 0.7239\n",
      "Epoch 8/100\n",
      "804/804 [==============================] - 2s 2ms/step - loss: 0.8302 - accuracy: 0.7208\n",
      "Epoch 9/100\n",
      "804/804 [==============================] - 2s 2ms/step - loss: 0.8457 - accuracy: 0.7165\n",
      "Epoch 10/100\n",
      "804/804 [==============================] - 2s 2ms/step - loss: 0.8249 - accuracy: 0.7236\n",
      "Epoch 11/100\n",
      "804/804 [==============================] - 2s 2ms/step - loss: 0.8117 - accuracy: 0.7232\n",
      "Epoch 12/100\n",
      "804/804 [==============================] - 2s 2ms/step - loss: 0.7970 - accuracy: 0.7249\n",
      "Epoch 13/100\n",
      "804/804 [==============================] - 2s 2ms/step - loss: 0.8141 - accuracy: 0.7241\n",
      "Epoch 14/100\n",
      "804/804 [==============================] - 2s 2ms/step - loss: 0.8054 - accuracy: 0.7205\n",
      "Epoch 15/100\n",
      "804/804 [==============================] - 2s 2ms/step - loss: 0.7868 - accuracy: 0.7255\n",
      "Epoch 16/100\n",
      "804/804 [==============================] - 2s 2ms/step - loss: 0.7770 - accuracy: 0.7259\n",
      "Epoch 17/100\n",
      "804/804 [==============================] - 2s 2ms/step - loss: 0.8083 - accuracy: 0.7171\n",
      "Epoch 18/100\n",
      "804/804 [==============================] - 2s 2ms/step - loss: 0.7779 - accuracy: 0.7236\n",
      "Epoch 19/100\n",
      "804/804 [==============================] - 2s 2ms/step - loss: 0.7962 - accuracy: 0.7243\n",
      "Epoch 20/100\n",
      "804/804 [==============================] - 2s 2ms/step - loss: 0.7764 - accuracy: 0.7267\n",
      "Epoch 21/100\n",
      "804/804 [==============================] - 2s 2ms/step - loss: 0.7498 - accuracy: 0.7274\n",
      "Epoch 22/100\n",
      "804/804 [==============================] - 2s 2ms/step - loss: 0.7727 - accuracy: 0.7273\n",
      "Epoch 23/100\n",
      "804/804 [==============================] - 2s 2ms/step - loss: 0.7472 - accuracy: 0.7273\n",
      "Epoch 24/100\n",
      "804/804 [==============================] - 2s 2ms/step - loss: 0.7415 - accuracy: 0.7268\n",
      "Epoch 25/100\n",
      "804/804 [==============================] - 2s 2ms/step - loss: 0.7473 - accuracy: 0.7261\n",
      "Epoch 26/100\n",
      "804/804 [==============================] - 2s 2ms/step - loss: 0.7523 - accuracy: 0.7287\n",
      "Epoch 27/100\n",
      "804/804 [==============================] - 2s 2ms/step - loss: 0.7177 - accuracy: 0.7259\n",
      "Epoch 28/100\n",
      "804/804 [==============================] - 2s 2ms/step - loss: 0.7319 - accuracy: 0.7200\n",
      "Epoch 29/100\n",
      "804/804 [==============================] - 2s 2ms/step - loss: 0.7300 - accuracy: 0.7262\n",
      "Epoch 30/100\n",
      "804/804 [==============================] - 2s 2ms/step - loss: 0.7206 - accuracy: 0.7268\n",
      "Epoch 31/100\n",
      "804/804 [==============================] - 2s 3ms/step - loss: 0.7166 - accuracy: 0.7309\n",
      "Epoch 32/100\n",
      "804/804 [==============================] - 2s 2ms/step - loss: 0.7372 - accuracy: 0.7271\n",
      "Epoch 33/100\n",
      "804/804 [==============================] - 2s 2ms/step - loss: 0.6971 - accuracy: 0.7283\n",
      "Epoch 34/100\n",
      "804/804 [==============================] - 2s 3ms/step - loss: 0.6933 - accuracy: 0.7279\n",
      "Epoch 35/100\n",
      "804/804 [==============================] - 2s 2ms/step - loss: 0.6706 - accuracy: 0.7328\n",
      "Epoch 36/100\n",
      "804/804 [==============================] - 2s 2ms/step - loss: 0.6807 - accuracy: 0.7258\n",
      "Epoch 37/100\n",
      "804/804 [==============================] - 2s 2ms/step - loss: 0.6788 - accuracy: 0.7321\n",
      "Epoch 38/100\n",
      "804/804 [==============================] - 2s 2ms/step - loss: 0.6830 - accuracy: 0.7297\n",
      "Epoch 39/100\n",
      "804/804 [==============================] - 2s 2ms/step - loss: 0.6834 - accuracy: 0.7310\n",
      "Epoch 40/100\n",
      "804/804 [==============================] - 2s 2ms/step - loss: 0.6697 - accuracy: 0.7302\n",
      "Epoch 41/100\n",
      "804/804 [==============================] - 2s 2ms/step - loss: 0.6743 - accuracy: 0.7322\n",
      "Epoch 42/100\n",
      "804/804 [==============================] - 2s 2ms/step - loss: 0.6688 - accuracy: 0.7337\n",
      "Epoch 43/100\n",
      "804/804 [==============================] - 2s 2ms/step - loss: 0.6335 - accuracy: 0.7293\n",
      "Epoch 44/100\n",
      "804/804 [==============================] - 2s 2ms/step - loss: 0.6328 - accuracy: 0.7313\n",
      "Epoch 45/100\n",
      "804/804 [==============================] - 2s 2ms/step - loss: 0.6168 - accuracy: 0.7287\n",
      "Epoch 46/100\n",
      "804/804 [==============================] - 2s 2ms/step - loss: 0.5895 - accuracy: 0.7263\n",
      "Epoch 47/100\n",
      "804/804 [==============================] - 2s 2ms/step - loss: 0.5969 - accuracy: 0.7329\n",
      "Epoch 48/100\n",
      "804/804 [==============================] - 2s 2ms/step - loss: 0.5968 - accuracy: 0.7346\n",
      "Epoch 49/100\n",
      "804/804 [==============================] - 2s 2ms/step - loss: 0.5924 - accuracy: 0.7327\n",
      "Epoch 50/100\n",
      "804/804 [==============================] - 2s 2ms/step - loss: 0.5977 - accuracy: 0.7250\n",
      "Epoch 51/100\n",
      "804/804 [==============================] - 2s 2ms/step - loss: 0.5876 - accuracy: 0.7340\n",
      "Epoch 52/100\n",
      "804/804 [==============================] - 2s 2ms/step - loss: 0.5960 - accuracy: 0.7219\n",
      "Epoch 53/100\n",
      "804/804 [==============================] - 2s 2ms/step - loss: 0.5864 - accuracy: 0.7355\n",
      "Epoch 54/100\n",
      "804/804 [==============================] - 2s 2ms/step - loss: 0.5776 - accuracy: 0.7301\n",
      "Epoch 55/100\n",
      "804/804 [==============================] - 2s 2ms/step - loss: 0.5835 - accuracy: 0.7283\n",
      "Epoch 56/100\n",
      "804/804 [==============================] - 2s 2ms/step - loss: 0.5715 - accuracy: 0.7350\n",
      "Epoch 57/100\n",
      "804/804 [==============================] - 2s 2ms/step - loss: 0.5858 - accuracy: 0.7326\n",
      "Epoch 58/100\n",
      "804/804 [==============================] - 2s 2ms/step - loss: 0.5935 - accuracy: 0.7343\n",
      "Epoch 59/100\n",
      "804/804 [==============================] - 2s 2ms/step - loss: 0.5789 - accuracy: 0.7342\n",
      "Epoch 60/100\n",
      "804/804 [==============================] - 2s 2ms/step - loss: 0.5770 - accuracy: 0.7315\n",
      "Epoch 61/100\n",
      "804/804 [==============================] - 2s 2ms/step - loss: 0.5765 - accuracy: 0.7322\n",
      "Epoch 62/100\n",
      "804/804 [==============================] - 2s 2ms/step - loss: 0.5879 - accuracy: 0.7343\n",
      "Epoch 63/100\n",
      "804/804 [==============================] - 2s 2ms/step - loss: 0.5793 - accuracy: 0.7328\n",
      "Epoch 64/100\n",
      "804/804 [==============================] - 2s 2ms/step - loss: 0.5813 - accuracy: 0.7276\n",
      "Epoch 65/100\n",
      "804/804 [==============================] - 2s 2ms/step - loss: 0.5845 - accuracy: 0.7336\n",
      "Epoch 66/100\n",
      "804/804 [==============================] - 2s 2ms/step - loss: 0.5803 - accuracy: 0.7361\n",
      "Epoch 67/100\n",
      "804/804 [==============================] - 2s 2ms/step - loss: 0.5769 - accuracy: 0.7367\n",
      "Epoch 68/100\n",
      "804/804 [==============================] - 2s 2ms/step - loss: 0.5867 - accuracy: 0.7346\n",
      "Epoch 69/100\n",
      "804/804 [==============================] - 2s 2ms/step - loss: 0.5778 - accuracy: 0.7356\n",
      "Epoch 70/100\n",
      "804/804 [==============================] - 2s 2ms/step - loss: 0.5800 - accuracy: 0.7352\n",
      "Epoch 71/100\n",
      "804/804 [==============================] - 2s 2ms/step - loss: 0.5709 - accuracy: 0.7369\n",
      "Epoch 72/100\n",
      "804/804 [==============================] - 2s 2ms/step - loss: 0.5763 - accuracy: 0.7375\n",
      "Epoch 73/100\n",
      "804/804 [==============================] - 2s 2ms/step - loss: 0.5784 - accuracy: 0.7364\n",
      "Epoch 74/100\n",
      "804/804 [==============================] - 2s 2ms/step - loss: 0.5795 - accuracy: 0.7363\n",
      "Epoch 75/100\n",
      "804/804 [==============================] - 2s 2ms/step - loss: 0.5759 - accuracy: 0.7353\n",
      "Epoch 76/100\n",
      "804/804 [==============================] - 2s 2ms/step - loss: 0.5807 - accuracy: 0.7352\n",
      "Epoch 77/100\n",
      "804/804 [==============================] - 2s 2ms/step - loss: 0.5910 - accuracy: 0.7355\n",
      "Epoch 78/100\n",
      "804/804 [==============================] - 2s 3ms/step - loss: 0.5864 - accuracy: 0.7376\n",
      "Epoch 79/100\n",
      "804/804 [==============================] - 2s 2ms/step - loss: 0.5917 - accuracy: 0.7376\n",
      "Epoch 80/100\n",
      "804/804 [==============================] - 2s 2ms/step - loss: 0.5744 - accuracy: 0.7368\n",
      "Epoch 81/100\n",
      "804/804 [==============================] - 2s 2ms/step - loss: 0.5775 - accuracy: 0.7354\n",
      "Epoch 82/100\n",
      "804/804 [==============================] - 2s 2ms/step - loss: 0.5827 - accuracy: 0.7362\n",
      "Epoch 83/100\n",
      "804/804 [==============================] - 2s 2ms/step - loss: 0.5915 - accuracy: 0.7358\n",
      "Epoch 84/100\n",
      "804/804 [==============================] - 2s 2ms/step - loss: 0.5876 - accuracy: 0.7372\n",
      "Epoch 85/100\n",
      "804/804 [==============================] - 2s 2ms/step - loss: 0.5857 - accuracy: 0.7383\n",
      "Epoch 86/100\n",
      "804/804 [==============================] - 2s 2ms/step - loss: 0.5979 - accuracy: 0.7371\n",
      "Epoch 87/100\n",
      "804/804 [==============================] - 2s 2ms/step - loss: 0.5972 - accuracy: 0.7297\n",
      "Epoch 88/100\n",
      "804/804 [==============================] - 2s 2ms/step - loss: 0.5863 - accuracy: 0.7374\n",
      "Epoch 89/100\n",
      "804/804 [==============================] - 2s 2ms/step - loss: 0.5819 - accuracy: 0.7331\n",
      "Epoch 90/100\n",
      "804/804 [==============================] - 2s 2ms/step - loss: 0.5783 - accuracy: 0.7363\n",
      "Epoch 91/100\n",
      "804/804 [==============================] - 2s 2ms/step - loss: 0.5760 - accuracy: 0.7375\n",
      "Epoch 92/100\n",
      "804/804 [==============================] - 2s 2ms/step - loss: 0.5871 - accuracy: 0.7375\n",
      "Epoch 93/100\n",
      "804/804 [==============================] - 2s 2ms/step - loss: 0.5807 - accuracy: 0.7376\n",
      "Epoch 94/100\n",
      "804/804 [==============================] - 2s 2ms/step - loss: 0.5875 - accuracy: 0.7379\n",
      "Epoch 95/100\n",
      "804/804 [==============================] - 2s 2ms/step - loss: 0.5793 - accuracy: 0.7365\n",
      "Epoch 96/100\n",
      "804/804 [==============================] - 2s 2ms/step - loss: 0.5776 - accuracy: 0.7373\n",
      "Epoch 97/100\n",
      "804/804 [==============================] - 2s 2ms/step - loss: 0.5876 - accuracy: 0.7386\n",
      "Epoch 98/100\n",
      "804/804 [==============================] - 2s 2ms/step - loss: 0.5810 - accuracy: 0.7369\n",
      "Epoch 99/100\n",
      "804/804 [==============================] - 2s 2ms/step - loss: 0.5929 - accuracy: 0.7364\n",
      "Epoch 100/100\n",
      "804/804 [==============================] - 2s 2ms/step - loss: 0.6300 - accuracy: 0.7217\n"
     ]
    }
   ],
   "source": [
    "# Fit the model\n",
    "fit_model_A2 = nn_A2.fit(X_train_scaled, y_train, epochs=100)"
   ]
  },
  {
   "cell_type": "markdown",
   "metadata": {},
   "source": [
    "### Alternative Model 3: 1 hidden layer, 100 epochs"
   ]
  },
  {
   "cell_type": "code",
   "execution_count": 262,
   "metadata": {},
   "outputs": [
    {
     "data": {
      "text/plain": [
       "116"
      ]
     },
     "execution_count": 262,
     "metadata": {},
     "output_type": "execute_result"
    }
   ],
   "source": [
    "# Define the the number of inputs (features) to the model\n",
    "number_input_features = len(X_train[0])\n",
    "\n",
    "# Review the number of features\n",
    "number_input_features"
   ]
  },
  {
   "cell_type": "code",
   "execution_count": 263,
   "metadata": {},
   "outputs": [],
   "source": [
    "# Define the number of neurons in the output layer\n",
    "number_output_neurons_A3 = 1"
   ]
  },
  {
   "cell_type": "code",
   "execution_count": 264,
   "metadata": {},
   "outputs": [
    {
     "data": {
      "text/plain": [
       "59"
      ]
     },
     "execution_count": 264,
     "metadata": {},
     "output_type": "execute_result"
    }
   ],
   "source": [
    "# Define the number of hidden nodes for the first hidden layer\n",
    "hidden_nodes_layer1_A3 = 59\n",
    "\n",
    "# Review the number of hidden nodes in the first layer\n",
    "hidden_nodes_layer1_A3"
   ]
  },
  {
   "cell_type": "code",
   "execution_count": 265,
   "metadata": {},
   "outputs": [],
   "source": [
    "# Create the Sequential model instance\n",
    "nn_A3 = Sequential()"
   ]
  },
  {
   "cell_type": "code",
   "execution_count": 266,
   "metadata": {},
   "outputs": [
    {
     "name": "stdout",
     "output_type": "stream",
     "text": [
      "Model: \"sequential_23\"\n",
      "_________________________________________________________________\n",
      " Layer (type)                Output Shape              Param #   \n",
      "=================================================================\n",
      " dense_62 (Dense)            (None, 59)                6903      \n",
      "                                                                 \n",
      " dense_63 (Dense)            (None, 1)                 60        \n",
      "                                                                 \n",
      "=================================================================\n",
      "Total params: 6,963\n",
      "Trainable params: 6,963\n",
      "Non-trainable params: 0\n",
      "_________________________________________________________________\n"
     ]
    }
   ],
   "source": [
    "# First hidden layer\n",
    "nn_A3.add(Dense(units=hidden_nodes_layer1_A3, input_dim=number_input_features, activation=\"relu\"))\n",
    "\n",
    "# Output layer\n",
    "nn_A3.add(Dense(units=number_output_neurons_A3, activation=\"linear\"))\n",
    "\n",
    "# Check the structure of the model\n",
    "nn_A3.summary()"
   ]
  },
  {
   "cell_type": "code",
   "execution_count": 267,
   "metadata": {},
   "outputs": [],
   "source": [
    "# Compile the model\n",
    "nn_A3.compile(loss=\"binary_crossentropy\", optimizer=\"adam\", metrics=[\"accuracy\"])"
   ]
  },
  {
   "cell_type": "code",
   "execution_count": 268,
   "metadata": {},
   "outputs": [
    {
     "name": "stdout",
     "output_type": "stream",
     "text": [
      "Epoch 1/100\n",
      "804/804 [==============================] - 2s 2ms/step - loss: 1.4157 - accuracy: 0.6957\n",
      "Epoch 2/100\n",
      "804/804 [==============================] - 2s 2ms/step - loss: 1.3738 - accuracy: 0.7030\n",
      "Epoch 3/100\n",
      "804/804 [==============================] - 2s 2ms/step - loss: 1.0706 - accuracy: 0.7025\n",
      "Epoch 4/100\n",
      "804/804 [==============================] - 2s 2ms/step - loss: 1.2043 - accuracy: 0.6969\n",
      "Epoch 5/100\n",
      "804/804 [==============================] - 2s 2ms/step - loss: 1.3668 - accuracy: 0.6921\n",
      "Epoch 6/100\n",
      "804/804 [==============================] - 2s 2ms/step - loss: 1.3834 - accuracy: 0.6934\n",
      "Epoch 7/100\n",
      "804/804 [==============================] - 2s 2ms/step - loss: 1.3640 - accuracy: 0.6930\n",
      "Epoch 8/100\n",
      "804/804 [==============================] - 2s 2ms/step - loss: 1.6301 - accuracy: 0.6688\n",
      "Epoch 9/100\n",
      "804/804 [==============================] - 2s 2ms/step - loss: 1.6641 - accuracy: 0.6848\n",
      "Epoch 10/100\n",
      "804/804 [==============================] - 2s 2ms/step - loss: 1.7841 - accuracy: 0.6803\n",
      "Epoch 11/100\n",
      "804/804 [==============================] - 2s 2ms/step - loss: 1.5777 - accuracy: 0.6801\n",
      "Epoch 12/100\n",
      "804/804 [==============================] - 2s 2ms/step - loss: 1.2840 - accuracy: 0.7049\n",
      "Epoch 13/100\n",
      "804/804 [==============================] - 2s 2ms/step - loss: 1.0308 - accuracy: 0.7223\n",
      "Epoch 14/100\n",
      "804/804 [==============================] - 2s 2ms/step - loss: 1.0984 - accuracy: 0.7199\n",
      "Epoch 15/100\n",
      "804/804 [==============================] - 2s 2ms/step - loss: 1.1792 - accuracy: 0.7186\n",
      "Epoch 16/100\n",
      "804/804 [==============================] - 2s 2ms/step - loss: 1.2850 - accuracy: 0.7131\n",
      "Epoch 17/100\n",
      "804/804 [==============================] - 2s 2ms/step - loss: 1.2956 - accuracy: 0.7049\n",
      "Epoch 18/100\n",
      "804/804 [==============================] - 2s 2ms/step - loss: 1.0533 - accuracy: 0.7231\n",
      "Epoch 19/100\n",
      "804/804 [==============================] - 2s 2ms/step - loss: 1.0236 - accuracy: 0.7073\n",
      "Epoch 20/100\n",
      "804/804 [==============================] - 2s 2ms/step - loss: 0.8469 - accuracy: 0.7254\n",
      "Epoch 21/100\n",
      "804/804 [==============================] - 2s 2ms/step - loss: 0.9245 - accuracy: 0.7199\n",
      "Epoch 22/100\n",
      "804/804 [==============================] - 2s 2ms/step - loss: 1.2598 - accuracy: 0.6994\n",
      "Epoch 23/100\n",
      "804/804 [==============================] - 2s 2ms/step - loss: 1.3013 - accuracy: 0.7034\n",
      "Epoch 24/100\n",
      "804/804 [==============================] - 2s 2ms/step - loss: 1.0501 - accuracy: 0.7114\n",
      "Epoch 25/100\n",
      "804/804 [==============================] - 2s 2ms/step - loss: 0.9225 - accuracy: 0.7234\n",
      "Epoch 26/100\n",
      "804/804 [==============================] - 2s 2ms/step - loss: 1.1926 - accuracy: 0.7032\n",
      "Epoch 27/100\n",
      "804/804 [==============================] - 2s 2ms/step - loss: 1.2432 - accuracy: 0.7028\n",
      "Epoch 28/100\n",
      "804/804 [==============================] - 2s 2ms/step - loss: 1.1694 - accuracy: 0.6923\n",
      "Epoch 29/100\n",
      "804/804 [==============================] - 2s 2ms/step - loss: 1.2260 - accuracy: 0.7014\n",
      "Epoch 30/100\n",
      "804/804 [==============================] - 2s 2ms/step - loss: 1.1801 - accuracy: 0.7028\n",
      "Epoch 31/100\n",
      "804/804 [==============================] - 2s 2ms/step - loss: 1.1811 - accuracy: 0.7059\n",
      "Epoch 32/100\n",
      "804/804 [==============================] - 2s 2ms/step - loss: 1.1551 - accuracy: 0.7036\n",
      "Epoch 33/100\n",
      "804/804 [==============================] - 2s 2ms/step - loss: 1.0398 - accuracy: 0.6932\n",
      "Epoch 34/100\n",
      "804/804 [==============================] - 2s 2ms/step - loss: 0.9844 - accuracy: 0.7095\n",
      "Epoch 35/100\n",
      "804/804 [==============================] - 2s 2ms/step - loss: 1.3154 - accuracy: 0.6911\n",
      "Epoch 36/100\n",
      "804/804 [==============================] - 2s 2ms/step - loss: 1.3344 - accuracy: 0.6811\n",
      "Epoch 37/100\n",
      "804/804 [==============================] - 2s 2ms/step - loss: 1.1123 - accuracy: 0.6832\n",
      "Epoch 38/100\n",
      "804/804 [==============================] - 2s 2ms/step - loss: 0.7803 - accuracy: 0.7185\n",
      "Epoch 39/100\n",
      "804/804 [==============================] - 2s 2ms/step - loss: 0.7287 - accuracy: 0.7287\n",
      "Epoch 40/100\n",
      "804/804 [==============================] - 2s 2ms/step - loss: 0.9634 - accuracy: 0.7081\n",
      "Epoch 41/100\n",
      "804/804 [==============================] - 2s 2ms/step - loss: 1.1093 - accuracy: 0.6930\n",
      "Epoch 42/100\n",
      "804/804 [==============================] - 2s 2ms/step - loss: 0.9243 - accuracy: 0.7054\n",
      "Epoch 43/100\n",
      "804/804 [==============================] - 2s 2ms/step - loss: 0.7276 - accuracy: 0.7243\n",
      "Epoch 44/100\n",
      "804/804 [==============================] - 2s 2ms/step - loss: 0.7802 - accuracy: 0.7221\n",
      "Epoch 45/100\n",
      "804/804 [==============================] - 2s 2ms/step - loss: 0.7828 - accuracy: 0.7165\n",
      "Epoch 46/100\n",
      "804/804 [==============================] - 2s 2ms/step - loss: 0.7424 - accuracy: 0.7208\n",
      "Epoch 47/100\n",
      "804/804 [==============================] - 2s 2ms/step - loss: 0.8209 - accuracy: 0.7085\n",
      "Epoch 48/100\n",
      "804/804 [==============================] - 2s 2ms/step - loss: 0.9591 - accuracy: 0.7054\n",
      "Epoch 49/100\n",
      "804/804 [==============================] - 2s 2ms/step - loss: 0.8375 - accuracy: 0.7150\n",
      "Epoch 50/100\n",
      "804/804 [==============================] - 2s 2ms/step - loss: 0.7773 - accuracy: 0.7273\n",
      "Epoch 51/100\n",
      "804/804 [==============================] - 2s 2ms/step - loss: 0.7899 - accuracy: 0.7212\n",
      "Epoch 52/100\n",
      "804/804 [==============================] - 2s 2ms/step - loss: 0.7297 - accuracy: 0.7287\n",
      "Epoch 53/100\n",
      "804/804 [==============================] - 2s 2ms/step - loss: 0.7664 - accuracy: 0.7257\n",
      "Epoch 54/100\n",
      "804/804 [==============================] - 2s 2ms/step - loss: 0.7034 - accuracy: 0.7297\n",
      "Epoch 55/100\n",
      "804/804 [==============================] - 2s 2ms/step - loss: 0.6896 - accuracy: 0.7311\n",
      "Epoch 56/100\n",
      "804/804 [==============================] - 2s 2ms/step - loss: 0.9588 - accuracy: 0.7067\n",
      "Epoch 57/100\n",
      "804/804 [==============================] - 2s 2ms/step - loss: 0.7454 - accuracy: 0.7222\n",
      "Epoch 58/100\n",
      "804/804 [==============================] - 2s 2ms/step - loss: 0.7188 - accuracy: 0.7269\n",
      "Epoch 59/100\n",
      "804/804 [==============================] - 2s 2ms/step - loss: 0.7555 - accuracy: 0.7064\n",
      "Epoch 60/100\n",
      "804/804 [==============================] - 2s 2ms/step - loss: 0.7227 - accuracy: 0.7263\n",
      "Epoch 61/100\n",
      "804/804 [==============================] - 2s 2ms/step - loss: 0.7659 - accuracy: 0.7245\n",
      "Epoch 62/100\n",
      "804/804 [==============================] - 2s 2ms/step - loss: 0.7170 - accuracy: 0.7287\n",
      "Epoch 63/100\n",
      "804/804 [==============================] - 2s 2ms/step - loss: 0.7245 - accuracy: 0.7288\n",
      "Epoch 64/100\n",
      "804/804 [==============================] - 2s 2ms/step - loss: 0.7258 - accuracy: 0.7289\n",
      "Epoch 65/100\n",
      "804/804 [==============================] - 2s 2ms/step - loss: 0.8036 - accuracy: 0.7224\n",
      "Epoch 66/100\n",
      "804/804 [==============================] - 2s 2ms/step - loss: 0.7355 - accuracy: 0.7227\n",
      "Epoch 67/100\n",
      "804/804 [==============================] - 2s 2ms/step - loss: 0.6888 - accuracy: 0.7284\n",
      "Epoch 68/100\n",
      "804/804 [==============================] - 2s 2ms/step - loss: 0.8312 - accuracy: 0.7124\n",
      "Epoch 69/100\n",
      "804/804 [==============================] - 2s 2ms/step - loss: 0.6768 - accuracy: 0.7302\n",
      "Epoch 70/100\n",
      "804/804 [==============================] - 2s 3ms/step - loss: 0.6857 - accuracy: 0.7220\n",
      "Epoch 71/100\n",
      "804/804 [==============================] - 2s 2ms/step - loss: 0.7171 - accuracy: 0.7256\n",
      "Epoch 72/100\n",
      "804/804 [==============================] - 2s 2ms/step - loss: 0.7124 - accuracy: 0.7262\n",
      "Epoch 73/100\n",
      "804/804 [==============================] - 2s 2ms/step - loss: 0.6699 - accuracy: 0.7320\n",
      "Epoch 74/100\n",
      "804/804 [==============================] - 2s 2ms/step - loss: 0.7578 - accuracy: 0.7243\n",
      "Epoch 75/100\n",
      "804/804 [==============================] - 2s 2ms/step - loss: 0.7569 - accuracy: 0.7224\n",
      "Epoch 76/100\n",
      "804/804 [==============================] - 2s 2ms/step - loss: 0.7205 - accuracy: 0.7214\n",
      "Epoch 77/100\n",
      "804/804 [==============================] - 2s 2ms/step - loss: 0.6996 - accuracy: 0.7289\n",
      "Epoch 78/100\n",
      "804/804 [==============================] - 2s 2ms/step - loss: 0.6841 - accuracy: 0.7289\n",
      "Epoch 79/100\n",
      "804/804 [==============================] - 2s 2ms/step - loss: 0.7244 - accuracy: 0.7267\n",
      "Epoch 80/100\n",
      "804/804 [==============================] - 2s 2ms/step - loss: 0.7166 - accuracy: 0.7251\n",
      "Epoch 81/100\n",
      "804/804 [==============================] - 2s 2ms/step - loss: 0.6863 - accuracy: 0.7309\n",
      "Epoch 82/100\n",
      "804/804 [==============================] - 2s 2ms/step - loss: 0.6735 - accuracy: 0.7257\n",
      "Epoch 83/100\n",
      "804/804 [==============================] - 2s 2ms/step - loss: 0.6914 - accuracy: 0.7264\n",
      "Epoch 84/100\n",
      "804/804 [==============================] - 2s 2ms/step - loss: 0.7770 - accuracy: 0.7161\n",
      "Epoch 85/100\n",
      "804/804 [==============================] - 2s 2ms/step - loss: 0.6881 - accuracy: 0.7290\n",
      "Epoch 86/100\n",
      "804/804 [==============================] - 2s 2ms/step - loss: 0.6695 - accuracy: 0.7304\n",
      "Epoch 87/100\n",
      "804/804 [==============================] - 2s 2ms/step - loss: 0.6572 - accuracy: 0.7324\n",
      "Epoch 88/100\n",
      "804/804 [==============================] - 2s 2ms/step - loss: 0.8676 - accuracy: 0.7133\n",
      "Epoch 89/100\n",
      "804/804 [==============================] - 2s 2ms/step - loss: 0.6705 - accuracy: 0.7267\n",
      "Epoch 90/100\n",
      "804/804 [==============================] - 2s 2ms/step - loss: 0.6537 - accuracy: 0.7301\n",
      "Epoch 91/100\n",
      "804/804 [==============================] - 2s 2ms/step - loss: 0.6428 - accuracy: 0.7295\n",
      "Epoch 92/100\n",
      "804/804 [==============================] - 2s 2ms/step - loss: 0.6382 - accuracy: 0.7337\n",
      "Epoch 93/100\n",
      "804/804 [==============================] - 2s 2ms/step - loss: 0.6854 - accuracy: 0.7219\n",
      "Epoch 94/100\n",
      "804/804 [==============================] - 2s 2ms/step - loss: 0.6376 - accuracy: 0.7315\n",
      "Epoch 95/100\n",
      "804/804 [==============================] - 2s 2ms/step - loss: 0.6640 - accuracy: 0.7166\n",
      "Epoch 96/100\n",
      "804/804 [==============================] - 2s 2ms/step - loss: 0.6351 - accuracy: 0.7328\n",
      "Epoch 97/100\n",
      "804/804 [==============================] - 2s 2ms/step - loss: 0.6454 - accuracy: 0.7322\n",
      "Epoch 98/100\n",
      "804/804 [==============================] - 2s 2ms/step - loss: 0.6361 - accuracy: 0.7344\n",
      "Epoch 99/100\n",
      "804/804 [==============================] - 2s 2ms/step - loss: 0.6384 - accuracy: 0.7337\n",
      "Epoch 100/100\n",
      "804/804 [==============================] - 2s 2ms/step - loss: 0.6470 - accuracy: 0.7297\n"
     ]
    }
   ],
   "source": [
    "# Fit the model\n",
    "fit_model_A3 = nn_A3.fit(X_train_scaled, y_train, epochs=100)"
   ]
  },
  {
   "cell_type": "markdown",
   "metadata": {},
   "source": [
    "### ALternative Model 4: 2 layers, 50 epochs, remove feature \"APPLICATION_TYPE\""
   ]
  },
  {
   "cell_type": "code",
   "execution_count": 269,
   "metadata": {},
   "outputs": [],
   "source": [
    "# Create a list of categorical variables \n",
    "categorical_variables = list(applicant_data_df.dtypes[applicant_data_df.dtypes == \"object\"].index)\n",
    "\n",
    "# Display the categorical variables list minus \"APPLICATION_TYPE\"\n",
    "categorical_alt = categorical_variables[1:len(categorical_variables)]"
   ]
  },
  {
   "cell_type": "code",
   "execution_count": 270,
   "metadata": {},
   "outputs": [
    {
     "data": {
      "text/html": [
       "<div>\n",
       "<style scoped>\n",
       "    .dataframe tbody tr th:only-of-type {\n",
       "        vertical-align: middle;\n",
       "    }\n",
       "\n",
       "    .dataframe tbody tr th {\n",
       "        vertical-align: top;\n",
       "    }\n",
       "\n",
       "    .dataframe thead th {\n",
       "        text-align: right;\n",
       "    }\n",
       "</style>\n",
       "<table border=\"1\" class=\"dataframe\">\n",
       "  <thead>\n",
       "    <tr style=\"text-align: right;\">\n",
       "      <th></th>\n",
       "      <th>AFFILIATION_CompanySponsored</th>\n",
       "      <th>AFFILIATION_Family/Parent</th>\n",
       "      <th>AFFILIATION_Independent</th>\n",
       "      <th>AFFILIATION_National</th>\n",
       "      <th>AFFILIATION_Other</th>\n",
       "      <th>AFFILIATION_Regional</th>\n",
       "      <th>CLASSIFICATION_C0</th>\n",
       "      <th>CLASSIFICATION_C1000</th>\n",
       "      <th>CLASSIFICATION_C1200</th>\n",
       "      <th>CLASSIFICATION_C1230</th>\n",
       "      <th>...</th>\n",
       "      <th>INCOME_AMT_10M-50M</th>\n",
       "      <th>INCOME_AMT_1M-5M</th>\n",
       "      <th>INCOME_AMT_25000-99999</th>\n",
       "      <th>INCOME_AMT_50M+</th>\n",
       "      <th>INCOME_AMT_5M-10M</th>\n",
       "      <th>SPECIAL_CONSIDERATIONS_N</th>\n",
       "      <th>SPECIAL_CONSIDERATIONS_Y</th>\n",
       "      <th>STATUS</th>\n",
       "      <th>ASK_AMT</th>\n",
       "      <th>IS_SUCCESSFUL</th>\n",
       "    </tr>\n",
       "  </thead>\n",
       "  <tbody>\n",
       "    <tr>\n",
       "      <th>0</th>\n",
       "      <td>0.0</td>\n",
       "      <td>0.0</td>\n",
       "      <td>1.0</td>\n",
       "      <td>0.0</td>\n",
       "      <td>0.0</td>\n",
       "      <td>0.0</td>\n",
       "      <td>0.0</td>\n",
       "      <td>1.0</td>\n",
       "      <td>0.0</td>\n",
       "      <td>0.0</td>\n",
       "      <td>...</td>\n",
       "      <td>0.0</td>\n",
       "      <td>0.0</td>\n",
       "      <td>0.0</td>\n",
       "      <td>0.0</td>\n",
       "      <td>0.0</td>\n",
       "      <td>1.0</td>\n",
       "      <td>0.0</td>\n",
       "      <td>1</td>\n",
       "      <td>5000</td>\n",
       "      <td>1</td>\n",
       "    </tr>\n",
       "    <tr>\n",
       "      <th>1</th>\n",
       "      <td>0.0</td>\n",
       "      <td>0.0</td>\n",
       "      <td>1.0</td>\n",
       "      <td>0.0</td>\n",
       "      <td>0.0</td>\n",
       "      <td>0.0</td>\n",
       "      <td>0.0</td>\n",
       "      <td>0.0</td>\n",
       "      <td>0.0</td>\n",
       "      <td>0.0</td>\n",
       "      <td>...</td>\n",
       "      <td>0.0</td>\n",
       "      <td>0.0</td>\n",
       "      <td>0.0</td>\n",
       "      <td>0.0</td>\n",
       "      <td>0.0</td>\n",
       "      <td>1.0</td>\n",
       "      <td>0.0</td>\n",
       "      <td>1</td>\n",
       "      <td>108590</td>\n",
       "      <td>1</td>\n",
       "    </tr>\n",
       "    <tr>\n",
       "      <th>2</th>\n",
       "      <td>1.0</td>\n",
       "      <td>0.0</td>\n",
       "      <td>0.0</td>\n",
       "      <td>0.0</td>\n",
       "      <td>0.0</td>\n",
       "      <td>0.0</td>\n",
       "      <td>0.0</td>\n",
       "      <td>0.0</td>\n",
       "      <td>0.0</td>\n",
       "      <td>0.0</td>\n",
       "      <td>...</td>\n",
       "      <td>0.0</td>\n",
       "      <td>0.0</td>\n",
       "      <td>0.0</td>\n",
       "      <td>0.0</td>\n",
       "      <td>0.0</td>\n",
       "      <td>1.0</td>\n",
       "      <td>0.0</td>\n",
       "      <td>1</td>\n",
       "      <td>5000</td>\n",
       "      <td>0</td>\n",
       "    </tr>\n",
       "    <tr>\n",
       "      <th>3</th>\n",
       "      <td>1.0</td>\n",
       "      <td>0.0</td>\n",
       "      <td>0.0</td>\n",
       "      <td>0.0</td>\n",
       "      <td>0.0</td>\n",
       "      <td>0.0</td>\n",
       "      <td>0.0</td>\n",
       "      <td>0.0</td>\n",
       "      <td>0.0</td>\n",
       "      <td>0.0</td>\n",
       "      <td>...</td>\n",
       "      <td>0.0</td>\n",
       "      <td>0.0</td>\n",
       "      <td>0.0</td>\n",
       "      <td>0.0</td>\n",
       "      <td>0.0</td>\n",
       "      <td>1.0</td>\n",
       "      <td>0.0</td>\n",
       "      <td>1</td>\n",
       "      <td>6692</td>\n",
       "      <td>1</td>\n",
       "    </tr>\n",
       "    <tr>\n",
       "      <th>4</th>\n",
       "      <td>0.0</td>\n",
       "      <td>0.0</td>\n",
       "      <td>1.0</td>\n",
       "      <td>0.0</td>\n",
       "      <td>0.0</td>\n",
       "      <td>0.0</td>\n",
       "      <td>0.0</td>\n",
       "      <td>1.0</td>\n",
       "      <td>0.0</td>\n",
       "      <td>0.0</td>\n",
       "      <td>...</td>\n",
       "      <td>0.0</td>\n",
       "      <td>0.0</td>\n",
       "      <td>0.0</td>\n",
       "      <td>0.0</td>\n",
       "      <td>0.0</td>\n",
       "      <td>1.0</td>\n",
       "      <td>0.0</td>\n",
       "      <td>1</td>\n",
       "      <td>142590</td>\n",
       "      <td>1</td>\n",
       "    </tr>\n",
       "  </tbody>\n",
       "</table>\n",
       "<p>5 rows × 100 columns</p>\n",
       "</div>"
      ],
      "text/plain": [
       "   AFFILIATION_CompanySponsored  AFFILIATION_Family/Parent  \\\n",
       "0                           0.0                        0.0   \n",
       "1                           0.0                        0.0   \n",
       "2                           1.0                        0.0   \n",
       "3                           1.0                        0.0   \n",
       "4                           0.0                        0.0   \n",
       "\n",
       "   AFFILIATION_Independent  AFFILIATION_National  AFFILIATION_Other  \\\n",
       "0                      1.0                   0.0                0.0   \n",
       "1                      1.0                   0.0                0.0   \n",
       "2                      0.0                   0.0                0.0   \n",
       "3                      0.0                   0.0                0.0   \n",
       "4                      1.0                   0.0                0.0   \n",
       "\n",
       "   AFFILIATION_Regional  CLASSIFICATION_C0  CLASSIFICATION_C1000  \\\n",
       "0                   0.0                0.0                   1.0   \n",
       "1                   0.0                0.0                   0.0   \n",
       "2                   0.0                0.0                   0.0   \n",
       "3                   0.0                0.0                   0.0   \n",
       "4                   0.0                0.0                   1.0   \n",
       "\n",
       "   CLASSIFICATION_C1200  CLASSIFICATION_C1230  ...  INCOME_AMT_10M-50M  \\\n",
       "0                   0.0                   0.0  ...                 0.0   \n",
       "1                   0.0                   0.0  ...                 0.0   \n",
       "2                   0.0                   0.0  ...                 0.0   \n",
       "3                   0.0                   0.0  ...                 0.0   \n",
       "4                   0.0                   0.0  ...                 0.0   \n",
       "\n",
       "   INCOME_AMT_1M-5M  INCOME_AMT_25000-99999  INCOME_AMT_50M+  \\\n",
       "0               0.0                     0.0              0.0   \n",
       "1               0.0                     0.0              0.0   \n",
       "2               0.0                     0.0              0.0   \n",
       "3               0.0                     0.0              0.0   \n",
       "4               0.0                     0.0              0.0   \n",
       "\n",
       "   INCOME_AMT_5M-10M  SPECIAL_CONSIDERATIONS_N  SPECIAL_CONSIDERATIONS_Y  \\\n",
       "0                0.0                       1.0                       0.0   \n",
       "1                0.0                       1.0                       0.0   \n",
       "2                0.0                       1.0                       0.0   \n",
       "3                0.0                       1.0                       0.0   \n",
       "4                0.0                       1.0                       0.0   \n",
       "\n",
       "   STATUS  ASK_AMT  IS_SUCCESSFUL  \n",
       "0       1     5000              1  \n",
       "1       1   108590              1  \n",
       "2       1     5000              0  \n",
       "3       1     6692              1  \n",
       "4       1   142590              1  \n",
       "\n",
       "[5 rows x 100 columns]"
      ]
     },
     "execution_count": 270,
     "metadata": {},
     "output_type": "execute_result"
    }
   ],
   "source": [
    "# Create a OneHotEncoder instance\n",
    "enc_alt = OneHotEncoder(sparse=False)\n",
    "\n",
    "# Encode the categorcal variables using OneHotEncoder\n",
    "encoded_data_alt = enc_alt.fit_transform(applicant_data_df[categorical_alt])\n",
    "\n",
    "# Create a DataFrame with the encoded variables\n",
    "encoded_alt_df = pd.DataFrame(\n",
    "    encoded_data_alt,\n",
    "    columns = enc_alt.get_feature_names_out(categorical_alt)\n",
    ")\n",
    "\n",
    "# Add the numerical variables from the original DataFrame to the one-hot encoding DataFrame\n",
    "numerical_vals = applicant_data_df.select_dtypes(include=['int64']).columns\n",
    "\n",
    "encoded_alt_df = pd.concat([encoded_alt_df,applicant_data_df[numerical_vals]], axis=\"columns\", join=\"outer\")\n",
    "\n",
    "# Review the Dataframe\n",
    "encoded_alt_df.head()"
   ]
  },
  {
   "cell_type": "code",
   "execution_count": 271,
   "metadata": {},
   "outputs": [],
   "source": [
    "# Define the target set y using the IS_SUCCESSFUL column\n",
    "y = encoded_alt_df[\"IS_SUCCESSFUL\"].values\n",
    "\n",
    "X = encoded_alt_df.drop(columns=[\"IS_SUCCESSFUL\"]).values"
   ]
  },
  {
   "cell_type": "code",
   "execution_count": 272,
   "metadata": {},
   "outputs": [],
   "source": [
    "# Split the preprocessed data into a training and testing dataset\n",
    "# Assign the function a random_state equal to 1\n",
    "X_train_alt, X_test_alt, y_train_alt, y_test_alt = train_test_split(X, y, random_state=1)"
   ]
  },
  {
   "cell_type": "code",
   "execution_count": 273,
   "metadata": {},
   "outputs": [],
   "source": [
    "# Create a StandardScaler instance\n",
    "scaler_alt = StandardScaler()\n",
    "\n",
    "# Fit the scaler to the features training dataset\n",
    "X_scaler_alt = scaler.fit(X_train_alt)\n",
    "\n",
    "# Fit the scaler to the features training dataset\n",
    "X_train_scaled_alt = X_scaler_alt.transform(X_train_alt)\n",
    "X_test_scaled_alt = X_scaler_alt.transform(X_test_alt)\n"
   ]
  },
  {
   "cell_type": "code",
   "execution_count": 274,
   "metadata": {},
   "outputs": [
    {
     "data": {
      "text/plain": [
       "99"
      ]
     },
     "execution_count": 274,
     "metadata": {},
     "output_type": "execute_result"
    }
   ],
   "source": [
    "number_input_features = len(X_train_alt[0])\n",
    "number_input_features"
   ]
  },
  {
   "cell_type": "code",
   "execution_count": 275,
   "metadata": {},
   "outputs": [
    {
     "name": "stdout",
     "output_type": "stream",
     "text": [
      "number_input_features: 99\n",
      "hidden_nodes_layer1: 59\n",
      "hidden_nodes_layer2: 19\n",
      "number_output_neurons: 1\n"
     ]
    }
   ],
   "source": [
    "print(f\"number_input_features: {number_input_features}\")\n",
    "print(f\"hidden_nodes_layer1: {hidden_nodes_layer1}\")\n",
    "print(f\"hidden_nodes_layer2: {hidden_nodes_layer2}\")\n",
    "print(f\"number_output_neurons: {number_output_neurons}\")"
   ]
  },
  {
   "cell_type": "code",
   "execution_count": 276,
   "metadata": {},
   "outputs": [
    {
     "name": "stdout",
     "output_type": "stream",
     "text": [
      "Model: \"sequential_24\"\n",
      "_________________________________________________________________\n",
      " Layer (type)                Output Shape              Param #   \n",
      "=================================================================\n",
      " dense_64 (Dense)            (None, 59)                5900      \n",
      "                                                                 \n",
      " dense_65 (Dense)            (None, 19)                1140      \n",
      "                                                                 \n",
      " dense_66 (Dense)            (None, 1)                 20        \n",
      "                                                                 \n",
      "=================================================================\n",
      "Total params: 7,060\n",
      "Trainable params: 7,060\n",
      "Non-trainable params: 0\n",
      "_________________________________________________________________\n"
     ]
    }
   ],
   "source": [
    "nn_A4 = Sequential()\n",
    "\n",
    "\n",
    "# Review the number of features\n",
    "number_input_features\n",
    "\n",
    "# Add the first hidden layer\n",
    "nn_A4.add(Dense(units=hidden_nodes_layer1, input_dim=number_input_features, activation=\"relu\"))\n",
    "\n",
    "# Second hidden layer\n",
    "nn_A4.add(Dense(units=hidden_nodes_layer2, input_dim=number_input_features, activation=\"relu\"))\n",
    "\n",
    "# Output layer\n",
    "nn_A4.add(Dense(units=number_output_neurons, activation=\"linear\"))\n",
    "\n",
    "# Check the structure of the model\n",
    "nn_A4.summary()"
   ]
  },
  {
   "cell_type": "code",
   "execution_count": 277,
   "metadata": {},
   "outputs": [],
   "source": [
    "nn_A4.compile(loss=\"binary_crossentropy\", optimizer=\"adam\", metrics=[\"accuracy\"])"
   ]
  },
  {
   "cell_type": "code",
   "execution_count": 278,
   "metadata": {},
   "outputs": [
    {
     "name": "stdout",
     "output_type": "stream",
     "text": [
      "Epoch 1/50\n",
      "804/804 [==============================] - 2s 2ms/step - loss: 1.0477 - accuracy: 0.6669\n",
      "Epoch 2/50\n",
      "804/804 [==============================] - 2s 2ms/step - loss: 0.9407 - accuracy: 0.6903\n",
      "Epoch 3/50\n",
      "804/804 [==============================] - 2s 2ms/step - loss: 0.9077 - accuracy: 0.6948\n",
      "Epoch 4/50\n",
      "804/804 [==============================] - 2s 2ms/step - loss: 0.8689 - accuracy: 0.6938\n",
      "Epoch 5/50\n",
      "804/804 [==============================] - 2s 2ms/step - loss: 0.9466 - accuracy: 0.6852\n",
      "Epoch 6/50\n",
      "804/804 [==============================] - 2s 2ms/step - loss: 0.8824 - accuracy: 0.6915\n",
      "Epoch 7/50\n",
      "804/804 [==============================] - 2s 2ms/step - loss: 0.8544 - accuracy: 0.6973\n",
      "Epoch 8/50\n",
      "804/804 [==============================] - 2s 2ms/step - loss: 0.8393 - accuracy: 0.6859\n",
      "Epoch 9/50\n",
      "804/804 [==============================] - 2s 2ms/step - loss: 0.7922 - accuracy: 0.7020\n",
      "Epoch 10/50\n",
      "804/804 [==============================] - 2s 2ms/step - loss: 0.7918 - accuracy: 0.7016\n",
      "Epoch 11/50\n",
      "804/804 [==============================] - 2s 2ms/step - loss: 0.8134 - accuracy: 0.6995\n",
      "Epoch 12/50\n",
      "804/804 [==============================] - 2s 2ms/step - loss: 0.8006 - accuracy: 0.7031\n",
      "Epoch 13/50\n",
      "804/804 [==============================] - 2s 2ms/step - loss: 0.8138 - accuracy: 0.7018\n",
      "Epoch 14/50\n",
      "804/804 [==============================] - 2s 2ms/step - loss: 0.7628 - accuracy: 0.7035\n",
      "Epoch 15/50\n",
      "804/804 [==============================] - 2s 2ms/step - loss: 0.7463 - accuracy: 0.7042\n",
      "Epoch 16/50\n",
      "804/804 [==============================] - 2s 2ms/step - loss: 0.7671 - accuracy: 0.6985\n",
      "Epoch 17/50\n",
      "804/804 [==============================] - 2s 2ms/step - loss: 0.8012 - accuracy: 0.7013\n",
      "Epoch 18/50\n",
      "804/804 [==============================] - 2s 2ms/step - loss: 0.8213 - accuracy: 0.7015\n",
      "Epoch 19/50\n",
      "804/804 [==============================] - 2s 2ms/step - loss: 0.8246 - accuracy: 0.7003\n",
      "Epoch 20/50\n",
      "804/804 [==============================] - 2s 2ms/step - loss: 0.8119 - accuracy: 0.7023\n",
      "Epoch 21/50\n",
      "804/804 [==============================] - 2s 2ms/step - loss: 0.7565 - accuracy: 0.7036\n",
      "Epoch 22/50\n",
      "804/804 [==============================] - 2s 2ms/step - loss: 0.7587 - accuracy: 0.7068\n",
      "Epoch 23/50\n",
      "804/804 [==============================] - 2s 2ms/step - loss: 0.7537 - accuracy: 0.7072\n",
      "Epoch 24/50\n",
      "804/804 [==============================] - 2s 2ms/step - loss: 0.7554 - accuracy: 0.7041\n",
      "Epoch 25/50\n",
      "804/804 [==============================] - 2s 2ms/step - loss: 0.7357 - accuracy: 0.7048\n",
      "Epoch 26/50\n",
      "804/804 [==============================] - 2s 2ms/step - loss: 0.7330 - accuracy: 0.7068\n",
      "Epoch 27/50\n",
      "804/804 [==============================] - 2s 2ms/step - loss: 0.7240 - accuracy: 0.7085\n",
      "Epoch 28/50\n",
      "804/804 [==============================] - 2s 2ms/step - loss: 0.7226 - accuracy: 0.7088\n",
      "Epoch 29/50\n",
      "804/804 [==============================] - 2s 2ms/step - loss: 0.7241 - accuracy: 0.7081\n",
      "Epoch 30/50\n",
      "804/804 [==============================] - 2s 2ms/step - loss: 0.7315 - accuracy: 0.7070\n",
      "Epoch 31/50\n",
      "804/804 [==============================] - 2s 2ms/step - loss: 0.7300 - accuracy: 0.7071\n",
      "Epoch 32/50\n",
      "804/804 [==============================] - 2s 2ms/step - loss: 0.7308 - accuracy: 0.7079\n",
      "Epoch 33/50\n",
      "804/804 [==============================] - 2s 2ms/step - loss: 0.7012 - accuracy: 0.7023\n",
      "Epoch 34/50\n",
      "804/804 [==============================] - 2s 2ms/step - loss: 0.6656 - accuracy: 0.7060\n",
      "Epoch 35/50\n",
      "804/804 [==============================] - 2s 2ms/step - loss: 0.6478 - accuracy: 0.7083\n",
      "Epoch 36/50\n",
      "804/804 [==============================] - 2s 2ms/step - loss: 0.6416 - accuracy: 0.7125\n",
      "Epoch 37/50\n",
      "804/804 [==============================] - 2s 2ms/step - loss: 0.6636 - accuracy: 0.6953\n",
      "Epoch 38/50\n",
      "804/804 [==============================] - 2s 2ms/step - loss: 0.6419 - accuracy: 0.7121\n",
      "Epoch 39/50\n",
      "804/804 [==============================] - 2s 2ms/step - loss: 0.6526 - accuracy: 0.7119\n",
      "Epoch 40/50\n",
      "804/804 [==============================] - 2s 2ms/step - loss: 0.6566 - accuracy: 0.7116\n",
      "Epoch 41/50\n",
      "804/804 [==============================] - 2s 2ms/step - loss: 0.6584 - accuracy: 0.7125\n",
      "Epoch 42/50\n",
      "804/804 [==============================] - 2s 2ms/step - loss: 0.6575 - accuracy: 0.7119\n",
      "Epoch 43/50\n",
      "804/804 [==============================] - 2s 2ms/step - loss: 0.6665 - accuracy: 0.7122\n",
      "Epoch 44/50\n",
      "804/804 [==============================] - 2s 2ms/step - loss: 0.6618 - accuracy: 0.7128\n",
      "Epoch 45/50\n",
      "804/804 [==============================] - 2s 2ms/step - loss: 0.6614 - accuracy: 0.7005\n",
      "Epoch 46/50\n",
      "804/804 [==============================] - 2s 2ms/step - loss: 0.6447 - accuracy: 0.7103\n",
      "Epoch 47/50\n",
      "804/804 [==============================] - 2s 2ms/step - loss: 0.6544 - accuracy: 0.7116\n",
      "Epoch 48/50\n",
      "804/804 [==============================] - 2s 2ms/step - loss: 0.6650 - accuracy: 0.7100\n",
      "Epoch 49/50\n",
      "804/804 [==============================] - 2s 2ms/step - loss: 0.6676 - accuracy: 0.7098\n",
      "Epoch 50/50\n",
      "804/804 [==============================] - 2s 2ms/step - loss: 0.6542 - accuracy: 0.7125\n"
     ]
    }
   ],
   "source": [
    "fit_model_A4_50 = nn_A4.fit(X_train_scaled_alt, y_train_alt, epochs=50)"
   ]
  },
  {
   "cell_type": "markdown",
   "metadata": {},
   "source": [
    "### Step 2: After finishing your models, display the accuracy scores achieved by each model, and compare the results."
   ]
  },
  {
   "cell_type": "code",
   "execution_count": 285,
   "metadata": {},
   "outputs": [
    {
     "name": "stdout",
     "output_type": "stream",
     "text": [
      "Original Model Results\n",
      "2 hidden layers, 50 epochs\n",
      "268/268 - 0s - loss: 0.6033 - accuracy: 0.7285 - 363ms/epoch - 1ms/step\n",
      "Loss: 0.6033415198326111, Accuracy: 0.7285131216049194\n"
     ]
    }
   ],
   "source": [
    "print(\"Original Model Results\")\n",
    "print(\"2 hidden layers, 50 epochs\")\n",
    "\n",
    "# Evaluate the model loss and accuracy metrics using the evaluate method and the test data\n",
    "original_model_loss, original_model_accuracy = nn.evaluate(X_test_scaled, y_test, verbose=2)\n",
    "\n",
    "# Display the model loss and accuracy results\n",
    "print(f\"Loss: {original_model_loss}, Accuracy: {original_model_accuracy}\")"
   ]
  },
  {
   "cell_type": "code",
   "execution_count": 286,
   "metadata": {},
   "outputs": [
    {
     "name": "stdout",
     "output_type": "stream",
     "text": [
      "Alternative Model 1 Results\n",
      "1 hidden layers, 50 epochs\n",
      "268/268 - 0s - loss: 0.7433 - accuracy: 0.7252 - 422ms/epoch - 2ms/step\n",
      "Loss: 0.7433209419250488, Accuracy: 0.7252478003501892\n"
     ]
    }
   ],
   "source": [
    "print(\"Alternative Model 1 Results\")\n",
    "print(\"1 hidden layers, 50 epochs\")\n",
    "\n",
    "# Evaluate the model loss and accuracy metrics using the evaluate method and the test data\n",
    "model_loss_a1, model_accuracy_a1 = nn_A1.evaluate(X_test_scaled, y_test, verbose=2)\n",
    "\n",
    "# Display the model loss and accuracy results\n",
    "print(f\"Loss: {model_loss_a1}, Accuracy: {model_accuracy_a1}\")"
   ]
  },
  {
   "cell_type": "code",
   "execution_count": 287,
   "metadata": {},
   "outputs": [
    {
     "name": "stdout",
     "output_type": "stream",
     "text": [
      "Alternative Model 2 Results\n",
      "2 hidden layers, 100 epochs\n",
      "268/268 - 0s - loss: 0.6126 - accuracy: 0.7241 - 360ms/epoch - 1ms/step\n",
      "Loss: 0.6126083731651306, Accuracy: 0.7240816354751587\n"
     ]
    }
   ],
   "source": [
    "print(\"Alternative Model 2 Results\")\n",
    "print(\"2 hidden layers, 100 epochs\")\n",
    "\n",
    "# Evaluate the model loss and accuracy metrics using the evaluate method and the test data\n",
    "model_loss_a2, model_accuracy_a2 = nn_A2.evaluate(X_test_scaled, y_test, verbose=2)\n",
    "\n",
    "# Display the model loss and accuracy results\n",
    "print(f\"Loss: {model_loss_a2}, Accuracy: {model_accuracy_a2}\")"
   ]
  },
  {
   "cell_type": "code",
   "execution_count": 288,
   "metadata": {},
   "outputs": [
    {
     "name": "stdout",
     "output_type": "stream",
     "text": [
      "Alternative Model 3 Results\n",
      "1 hidden layer, 100 epochs\n",
      "268/268 - 0s - loss: 0.6310 - accuracy: 0.7301 - 351ms/epoch - 1ms/step\n",
      "Loss: 0.63103848695755, Accuracy: 0.7301457524299622\n"
     ]
    }
   ],
   "source": [
    "print(\"Alternative Model 3 Results\")\n",
    "print(\"1 hidden layer, 100 epochs\")\n",
    "\n",
    "# Evaluate the model loss and accuracy metrics using the evaluate method and the test data\n",
    "model_loss_a3, model_accuracy_a3 = nn_A3.evaluate(X_test_scaled, y_test, verbose=2)\n",
    "\n",
    "# Display the model loss and accuracy results\n",
    "print(f\"Loss: {model_loss_a3}, Accuracy: {model_accuracy_a3}\")"
   ]
  },
  {
   "cell_type": "code",
   "execution_count": 289,
   "metadata": {},
   "outputs": [
    {
     "name": "stdout",
     "output_type": "stream",
     "text": [
      "Alternative Model 4 Results\n",
      "2 hidden layers, 50 epochs, minus feature APPLICATION_TYPE\n",
      "268/268 - 1s - loss: 0.6473 - accuracy: 0.7097 - 514ms/epoch - 2ms/step\n",
      "Loss: 0.6473221182823181, Accuracy: 0.7097375988960266\n"
     ]
    }
   ],
   "source": [
    "print(\"Alternative Model 4 Results\")\n",
    "print(\"2 hidden layers, 50 epochs, minus feature APPLICATION_TYPE\")\n",
    "\n",
    "# Evaluate the model loss and accuracy metrics using the evaluate method and the test data\n",
    "model_loss_a4, model_accuracy_a4 = nn_A4.evaluate(X_test_scaled_alt, y_test_alt, verbose=2)\n",
    "\n",
    "# Display the model loss and accuracy results\n",
    "print(f\"Loss: {model_loss_a4}, Accuracy: {model_accuracy_a4}\")"
   ]
  },
  {
   "cell_type": "code",
   "execution_count": 302,
   "metadata": {},
   "outputs": [
    {
     "name": "stdout",
     "output_type": "stream",
     "text": [
      "The original model contained 2 hidden layers and was run for 50 epochs. Accuracy was 72.85%.\n",
      "In Alternative 1 I removed a layer and ran it for the same 50 epochs. Accuracy was 72.52%, a change of -0.33%.\n",
      "In Alternative 2 I kept both layers and ran it for 100 epochs. Accuracy was 72.41%, a change of -0.44%.\n",
      "In Alternative 3 I removed a layer and ran it for 100 epochs. Accuracy was 73.01%, a change of 0.16%.\n",
      "In Alternative 4 I kept the same structure as the original model, but reconfigured the data to drop the feature \"APPLICATION_TYPE\". Accuracy was 70.97%, a change of -1.88%.\n"
     ]
    }
   ],
   "source": [
    "### Summary:  \n",
    "print(f'The original model contained 2 hidden layers and was run for 50 epochs. Accuracy was {original_model_accuracy * 100:.2f}%.')  \n",
    "print(f'In Alternative 1 I removed a layer and ran it for the same 50 epochs. Accuracy was {model_accuracy_a1 * 100:.2f}%, a change of {(model_accuracy_a1 - original_model_accuracy) * 100:.2f}%.')  \n",
    "print(f'In Alternative 2 I kept both layers and ran it for 100 epochs. Accuracy was {model_accuracy_a2 * 100:.2f}%, a change of {(model_accuracy_a2 - original_model_accuracy) * 100:.2f}%.')\n",
    "print(f'In Alternative 3 I removed a layer and ran it for 100 epochs. Accuracy was {model_accuracy_a3 * 100:.2f}%, a change of {(model_accuracy_a3 - original_model_accuracy) * 100:.2f}%.')\n",
    "print(f'In Alternative 4 I kept the same structure as the original model, but reconfigured the data to drop the feature \"APPLICATION_TYPE\". Accuracy was {model_accuracy_a4 * 100:.2f}%, a change of {(model_accuracy_a4 - original_model_accuracy) * 100:.2f}%.')  \n",
    "  \n",
    "# I could still try optimizing by dropping other features or by changing the number of nodes in the hidden layers."
   ]
  },
  {
   "cell_type": "markdown",
   "metadata": {},
   "source": [
    "### Step 3: Save each of your alternative models as an HDF5 file.\n"
   ]
  },
  {
   "cell_type": "code",
   "execution_count": 303,
   "metadata": {},
   "outputs": [],
   "source": [
    "# Set the file path for the first alternative model\n",
    "file_path = Path(\"venture_funding_model_trained_A1.h5\")\n",
    "\n",
    "# Export your model to a HDF5 file\n",
    "nn_A1.save(file_path)"
   ]
  },
  {
   "cell_type": "code",
   "execution_count": 304,
   "metadata": {},
   "outputs": [],
   "source": [
    "# Set the file path for the second alternative model\n",
    "file_path = Path(\"venture_funding_model_trained_A2.h5\")\n",
    "\n",
    "# Export your model to a HDF5 file\n",
    "nn_A2.save(file_path)\n"
   ]
  },
  {
   "cell_type": "code",
   "execution_count": 305,
   "metadata": {},
   "outputs": [],
   "source": [
    "# Set the file path for the third alternative model\n",
    "file_path = Path(\"venture_funding_model_trained_A3.h5\")\n",
    "\n",
    "# Export your model to a HDF5 file\n",
    "nn_A3.save(file_path)"
   ]
  },
  {
   "cell_type": "code",
   "execution_count": 306,
   "metadata": {},
   "outputs": [],
   "source": [
    "# Set the file path for the third alternative model\n",
    "file_path = Path(\"venture_funding_model_trained_A4.h5\")\n",
    "\n",
    "# Export your model to a HDF5 file\n",
    "nn_A4.save(file_path)"
   ]
  },
  {
   "cell_type": "code",
   "execution_count": null,
   "metadata": {},
   "outputs": [],
   "source": []
  }
 ],
 "metadata": {
  "kernelspec": {
   "display_name": "Python 3 (ipykernel)",
   "language": "python",
   "name": "python3"
  },
  "language_info": {
   "codemirror_mode": {
    "name": "ipython",
    "version": 3
   },
   "file_extension": ".py",
   "mimetype": "text/x-python",
   "name": "python",
   "nbconvert_exporter": "python",
   "pygments_lexer": "ipython3",
   "version": "3.7.11"
  }
 },
 "nbformat": 4,
 "nbformat_minor": 4
}
